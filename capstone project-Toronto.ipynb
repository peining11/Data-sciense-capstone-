{
    "cells": [
        {
            "cell_type": "markdown",
            "metadata": {},
            "source": "# Capstone project- Chinese restaurant in Downtown Toronto\n\n## Table of Contents\n### 1.Introduction:Bussiness Problem \n### 2.Data\n### 3.Methodology\n### 4.Analysis\n### 5. Result and Disscussion \n### 6. Conclusion"
        },
        {
            "cell_type": "markdown",
            "metadata": {},
            "source": "## Introduction: Business Problem\n\nIn this project, I try to analysis Chinese Restaurant in Downtown Toronto. Since most people use apps like yelp to search for restaurant, the rating for those spots are crucial. Price is one of the most important factors to consider when people are choosing restaurant. In this project, I will analysis the relationship between prices and ratings. "
        },
        {
            "cell_type": "markdown",
            "metadata": {},
            "source": "## Data\nThe database I will use are exclusively from foursqaure. The following data will be ultilized: \\\n1, Chinese reasteraunt in Downtown Toronto\\\n2, ratings of each restaurant\\\n3, prices of each each restaurant\\\n\nAt the begining, I will try to find the geographiic relationship for each restautant and then cluster them using machine learning model. Then I will compare price of each restaurant in each cluster, trying to build a regress model. "
        },
        {
            "cell_type": "markdown",
            "metadata": {},
            "source": "At the begining, let's import libraries needed for this project. Also, prepapre Foursquare ID for loading data from its databases. We will get the geographic location of Downtown Toronto. A search content will also be created. "
        },
        {
            "cell_type": "code",
            "execution_count": 2,
            "metadata": {},
            "outputs": [
                {
                    "name": "stdout",
                    "output_type": "stream",
                    "text": "Requirement already satisfied: geopy in /opt/conda/envs/Python-3.7-main/lib/python3.7/site-packages (2.0.0)\nRequirement already satisfied: geographiclib<2,>=1.49 in /opt/conda/envs/Python-3.7-main/lib/python3.7/site-packages (from geopy) (1.50)\nCollecting folium==0.5.0\n  Downloading folium-0.5.0.tar.gz (79 kB)\n\u001b[K     |\u2588\u2588\u2588\u2588\u2588\u2588\u2588\u2588\u2588\u2588\u2588\u2588\u2588\u2588\u2588\u2588\u2588\u2588\u2588\u2588\u2588\u2588\u2588\u2588\u2588\u2588\u2588\u2588\u2588\u2588\u2588\u2588| 79 kB 6.8 MB/s  eta 0:00:01\n\u001b[?25hCollecting branca\n  Downloading branca-0.4.2-py3-none-any.whl (24 kB)\nRequirement already satisfied: jinja2 in /opt/conda/envs/Python-3.7-main/lib/python3.7/site-packages (from folium==0.5.0) (2.11.2)\nRequirement already satisfied: requests in /opt/conda/envs/Python-3.7-main/lib/python3.7/site-packages (from folium==0.5.0) (2.24.0)\nRequirement already satisfied: six in /opt/conda/envs/Python-3.7-main/lib/python3.7/site-packages (from folium==0.5.0) (1.15.0)\nRequirement already satisfied: MarkupSafe>=0.23 in /opt/conda/envs/Python-3.7-main/lib/python3.7/site-packages (from jinja2->folium==0.5.0) (1.1.1)\nRequirement already satisfied: certifi>=2017.4.17 in /opt/conda/envs/Python-3.7-main/lib/python3.7/site-packages (from requests->folium==0.5.0) (2020.12.5)\nRequirement already satisfied: chardet<4,>=3.0.2 in /opt/conda/envs/Python-3.7-main/lib/python3.7/site-packages (from requests->folium==0.5.0) (3.0.4)\nRequirement already satisfied: urllib3!=1.25.0,!=1.25.1,<1.26,>=1.21.1 in /opt/conda/envs/Python-3.7-main/lib/python3.7/site-packages (from requests->folium==0.5.0) (1.25.9)\nRequirement already satisfied: idna<3,>=2.5 in /opt/conda/envs/Python-3.7-main/lib/python3.7/site-packages (from requests->folium==0.5.0) (2.9)\nBuilding wheels for collected packages: folium\n  Building wheel for folium (setup.py) ... \u001b[?25ldone\n\u001b[?25h  Created wheel for folium: filename=folium-0.5.0-py3-none-any.whl size=76240 sha256=e8e438e9605afd164b1181442e8cbc6d1f33416c570452019a16a1287dfb658a\n  Stored in directory: /tmp/wsuser/.cache/pip/wheels/b2/2f/2c/109e446b990d663ea5ce9b078b5e7c1a9c45cca91f377080f8\nSuccessfully built folium\nInstalling collected packages: branca, folium\nSuccessfully installed branca-0.4.2 folium-0.5.0\nFolium installed\nLibraries imported.\n"
                }
            ],
            "source": "import requests # library to handle requests\nimport pandas as pd # library for data analsysis\nimport numpy as np # library to handle data in a vectorized manner\nimport random # library for random number generation\n\n\n!pip install geopy\nfrom geopy.geocoders import Nominatim # module to convert an address into latitude and longitude values\n\n# libraries for displaying images\nfrom IPython.display import Image \nfrom IPython.core.display import HTML \n    \n# tranforming json file into a pandas dataframe library\nfrom pandas.io.json import json_normalize\n\n\n! pip install folium==0.5.0\nimport folium # plotting library\n\nprint('Folium installed')\nprint('Libraries imported.')"
        },
        {
            "cell_type": "code",
            "execution_count": 3,
            "metadata": {},
            "outputs": [
                {
                    "name": "stdout",
                    "output_type": "stream",
                    "text": "Your credentails:\nCLIENT_ID: WK0QSB3S3K1RJELPKCJI0BORNMDDJNFHA4HWAW0YQY0KX0NC\nCLIENT_SECRET:HIR04WN5D1FZS5WOI5OFTQKYYZ3VZYSJNKOMFS15ZNYZYUWA\n"
                }
            ],
            "source": "CLIENT_ID = 'WK0QSB3S3K1RJELPKCJI0BORNMDDJNFHA4HWAW0YQY0KX0NC' # your Foursquare ID\nCLIENT_SECRET = 'HIR04WN5D1FZS5WOI5OFTQKYYZ3VZYSJNKOMFS15ZNYZYUWA' # your Foursquare Secret\nACCESS_TOKEN = 'DQK3VHXA41CZN1HJSEO2EXALLOENOE3Q5RGLGPLTFS4QU2MW' # your FourSquare Access Token\nVERSION = '20180604'\nLIMIT = 30\nprint('Your credentails:')\nprint('CLIENT_ID: ' + CLIENT_ID)\nprint('CLIENT_SECRET:' + CLIENT_SECRET)\n"
        },
        {
            "cell_type": "code",
            "execution_count": 4,
            "metadata": {},
            "outputs": [
                {
                    "name": "stdout",
                    "output_type": "stream",
                    "text": "43.6541737 -79.38081164513409\n"
                }
            ],
            "source": "address = 'Downtown Toronto'\n\ngeolocator = Nominatim(user_agent=\"foursquare_agent\")\nlocation = geolocator.geocode(address)\nlatitude = location.latitude\nlongitude = location.longitude\nprint(latitude, longitude)"
        },
        {
            "cell_type": "code",
            "execution_count": 5,
            "metadata": {},
            "outputs": [
                {
                    "name": "stdout",
                    "output_type": "stream",
                    "text": "Chinese Restaurant .... OK!\n"
                }
            ],
            "source": "search_query = 'Chinese Restaurant'\nradius = 500\nprint(search_query + ' .... OK!')"
        },
        {
            "cell_type": "markdown",
            "metadata": {},
            "source": "We will get an Url from Foursquare database and use it to retrieve a list of venue."
        },
        {
            "cell_type": "code",
            "execution_count": 34,
            "metadata": {},
            "outputs": [
                {
                    "data": {
                        "text/plain": "'https://api.foursquare.com/v2/venues/search?client_id=WK0QSB3S3K1RJELPKCJI0BORNMDDJNFHA4HWAW0YQY0KX0NC&client_secret=HIR04WN5D1FZS5WOI5OFTQKYYZ3VZYSJNKOMFS15ZNYZYUWA&ll=43.6541737,-79.38081164513409&oauth_token=DQK3VHXA41CZN1HJSEO2EXALLOENOE3Q5RGLGPLTFS4QU2MW&v=20180604&query=Chinese Restaurant&radius=500&limit=30'"
                    },
                    "execution_count": 34,
                    "metadata": {},
                    "output_type": "execute_result"
                }
            ],
            "source": "url = 'https://api.foursquare.com/v2/venues/search?client_id={}&client_secret={}&ll={},{}&oauth_token={}&v={}&query={}&radius={}&limit={}'.format(CLIENT_ID, CLIENT_SECRET, latitude, longitude,ACCESS_TOKEN, VERSION, search_query, radius, LIMIT)\nurl"
        },
        {
            "cell_type": "code",
            "execution_count": 35,
            "metadata": {},
            "outputs": [
                {
                    "data": {
                        "text/plain": "{'meta': {'code': 200, 'requestId': '6005df6be53c096fdfa8bdbd'},\n 'notifications': [{'type': 'notificationTray', 'item': {'unreadCount': 0}}],\n 'response': {'venues': [{'id': '4b2027b5f964a520f82d24e3',\n    'name': 'Hong Shing Chinese Restaurant',\n    'location': {'address': '195 Dundas St W',\n     'crossStreet': 'at University Ave',\n     'lat': 43.65492521335936,\n     'lng': -79.38708916106386,\n     'labeledLatLngs': [{'label': 'display',\n       'lat': 43.65492521335936,\n       'lng': -79.38708916106386}],\n     'distance': 512,\n     'postalCode': 'M5G 1C7',\n     'cc': 'CA',\n     'city': 'Toronto',\n     'state': 'ON',\n     'country': 'Canada',\n     'formattedAddress': ['195 Dundas St W (at University Ave)',\n      'Toronto ON M5G 1C7',\n      'Canada']},\n    'categories': [{'id': '4bf58dd8d48988d145941735',\n      'name': 'Chinese Restaurant',\n      'pluralName': 'Chinese Restaurants',\n      'shortName': 'Chinese',\n      'icon': {'prefix': 'https://ss3.4sqi.net/img/categories_v2/food/asian_',\n       'suffix': '.png'},\n      'primary': True}],\n    'venuePage': {'id': '60327598'},\n    'referralId': 'v-1610997612',\n    'hasPerk': False},\n   {'id': '52a7ae41498eed3af4d0a3fa',\n    'name': 'Yueh Tung Chinese Restaurant',\n    'location': {'address': '126 Elizabeth St.',\n     'crossStreet': 'Dundas St.',\n     'lat': 43.655281263429195,\n     'lng': -79.3853365267765,\n     'labeledLatLngs': [{'label': 'display',\n       'lat': 43.655281263429195,\n       'lng': -79.3853365267765}],\n     'distance': 384,\n     'postalCode': 'M5G 1P5',\n     'cc': 'CA',\n     'city': 'Toronto',\n     'state': 'ON',\n     'country': 'Canada',\n     'formattedAddress': ['126 Elizabeth St. (Dundas St.)',\n      'Toronto ON M5G 1P5',\n      'Canada']},\n    'categories': [{'id': '4bf58dd8d48988d145941735',\n      'name': 'Chinese Restaurant',\n      'pluralName': 'Chinese Restaurants',\n      'shortName': 'Chinese',\n      'icon': {'prefix': 'https://ss3.4sqi.net/img/categories_v2/food/asian_',\n       'suffix': '.png'},\n      'primary': True}],\n    'referralId': 'v-1610997612',\n    'hasPerk': False},\n   {'id': '4adf80b9f964a5202f7b21e3',\n    'name': 'Good View Chinese Restaurant',\n    'location': {'address': '132 Dundas Street East',\n     'lat': 43.656791249922385,\n     'lng': -79.37613917916755,\n     'labeledLatLngs': [{'label': 'display',\n       'lat': 43.656791249922385,\n       'lng': -79.37613917916755}],\n     'distance': 475,\n     'cc': 'CA',\n     'city': 'Toronto',\n     'state': 'ON',\n     'country': 'Canada',\n     'formattedAddress': ['132 Dundas Street East', 'Toronto ON', 'Canada']},\n    'categories': [{'id': '4bf58dd8d48988d145941735',\n      'name': 'Chinese Restaurant',\n      'pluralName': 'Chinese Restaurants',\n      'shortName': 'Chinese',\n      'icon': {'prefix': 'https://ss3.4sqi.net/img/categories_v2/food/asian_',\n       'suffix': '.png'},\n      'primary': True}],\n    'referralId': 'v-1610997612',\n    'hasPerk': False},\n   {'id': '53ae6660498e1ac3c1282743',\n    'name': 'Castries Bar & Five Way Restaurant',\n    'location': {'lat': 43.654727935791016,\n     'lng': -79.38092803955078,\n     'labeledLatLngs': [{'label': 'display',\n       'lat': 43.654727935791016,\n       'lng': -79.38092803955078}],\n     'distance': 62,\n     'cc': 'CA',\n     'country': 'Canada',\n     'formattedAddress': ['Canada']},\n    'categories': [{'id': '4bf58dd8d48988d144941735',\n      'name': 'Caribbean Restaurant',\n      'pluralName': 'Caribbean Restaurants',\n      'shortName': 'Caribbean',\n      'icon': {'prefix': 'https://ss3.4sqi.net/img/categories_v2/food/caribbean_',\n       'suffix': '.png'},\n      'primary': True}],\n    'referralId': 'v-1610997612',\n    'hasPerk': False},\n   {'id': '4f04779a02d5cce0cfc06151',\n    'name': 'Chinese Visa Application Service Center',\n    'location': {'address': '393 University Ave, Suite 1501',\n     'crossStreet': 'in University Centre',\n     'lat': 43.65402839343005,\n     'lng': -79.38736458967021,\n     'labeledLatLngs': [{'label': 'display',\n       'lat': 43.65402839343005,\n       'lng': -79.38736458967021}],\n     'distance': 528,\n     'cc': 'CA',\n     'city': 'Toronto',\n     'state': 'ON',\n     'country': 'Canada',\n     'formattedAddress': ['393 University Ave, Suite 1501 (in University Centre)',\n      'Toronto ON',\n      'Canada']},\n    'categories': [{'id': '4bf58dd8d48988d126941735',\n      'name': 'Government Building',\n      'pluralName': 'Government Buildings',\n      'shortName': 'Government',\n      'icon': {'prefix': 'https://ss3.4sqi.net/img/categories_v2/building/government_',\n       'suffix': '.png'},\n      'primary': True}],\n    'referralId': 'v-1610997612',\n    'hasPerk': False},\n   {'id': '532063ce498e106a873aa20b',\n    'name': 'City Kitchen',\n    'location': {'address': '220 Yonge Street',\n     'lat': 43.65401783830981,\n     'lng': -79.37982648714211,\n     'labeledLatLngs': [{'label': 'display',\n       'lat': 43.65401783830981,\n       'lng': -79.37982648714211}],\n     'distance': 81,\n     'cc': 'CA',\n     'city': 'Toronto',\n     'state': 'ON',\n     'country': 'Canada',\n     'formattedAddress': ['220 Yonge Street', 'Toronto ON', 'Canada']},\n    'categories': [{'id': '4bf58dd8d48988d1c4941735',\n      'name': 'Restaurant',\n      'pluralName': 'Restaurants',\n      'shortName': 'Restaurant',\n      'icon': {'prefix': 'https://ss3.4sqi.net/img/categories_v2/food/default_',\n       'suffix': '.png'},\n      'primary': True}],\n    'referralId': 'v-1610997612',\n    'hasPerk': False},\n   {'id': '4b295e10f964a520ba9d24e3',\n    'name': 'Richtree Natural Market Restaurants',\n    'location': {'address': '14 Queen St W',\n     'lat': 43.652614361741726,\n     'lng': -79.38023131683906,\n     'labeledLatLngs': [{'label': 'display',\n       'lat': 43.652614361741726,\n       'lng': -79.38023131683906}],\n     'distance': 179,\n     'postalCode': 'M5H 3X4',\n     'cc': 'CA',\n     'city': 'Toronto',\n     'state': 'ON',\n     'country': 'Canada',\n     'formattedAddress': ['14 Queen St W', 'Toronto ON M5H 3X4', 'Canada']},\n    'categories': [{'id': '4bf58dd8d48988d1c4941735',\n      'name': 'Restaurant',\n      'pluralName': 'Restaurants',\n      'shortName': 'Restaurant',\n      'icon': {'prefix': 'https://ss3.4sqi.net/img/categories_v2/food/default_',\n       'suffix': '.png'},\n      'primary': True}],\n    'referralId': 'v-1610997612',\n    'hasPerk': False},\n   {'id': '5a8b24b2018cbb6c4ca70dae',\n    'name': 'Hendricks Restaurant & Bar',\n    'location': {'address': 'Yonge And Queen',\n     'crossStreet': 'Queen St',\n     'lat': 43.65341542752959,\n     'lng': -79.37969842137554,\n     'labeledLatLngs': [{'label': 'display',\n       'lat': 43.65341542752959,\n       'lng': -79.37969842137554}],\n     'distance': 123,\n     'postalCode': 'M5G 2H6',\n     'cc': 'CA',\n     'city': 'Toronto',\n     'state': 'ON',\n     'country': 'Canada',\n     'formattedAddress': ['Yonge And Queen (Queen St)',\n      'Toronto ON M5G 2H6',\n      'Canada']},\n    'categories': [{'id': '4bf58dd8d48988d1c4941735',\n      'name': 'Restaurant',\n      'pluralName': 'Restaurants',\n      'shortName': 'Restaurant',\n      'icon': {'prefix': 'https://ss3.4sqi.net/img/categories_v2/food/default_',\n       'suffix': '.png'},\n      'primary': True}],\n    'referralId': 'v-1610997612',\n    'hasPerk': False},\n   {'id': '4ad4c05ff964a52048f720e3',\n    'name': 'Hemispheres Restaurant & Bistro',\n    'location': {'address': '110 Chestnut Street',\n     'lat': 43.65488413420439,\n     'lng': -79.38593077371578,\n     'labeledLatLngs': [{'label': 'display',\n       'lat': 43.65488413420439,\n       'lng': -79.38593077371578}],\n     'distance': 419,\n     'postalCode': 'M5G 1R3',\n     'cc': 'CA',\n     'city': 'Toronto',\n     'state': 'ON',\n     'country': 'Canada',\n     'formattedAddress': ['110 Chestnut Street',\n      'Toronto ON M5G 1R3',\n      'Canada']},\n    'categories': [{'id': '4bf58dd8d48988d14e941735',\n      'name': 'American Restaurant',\n      'pluralName': 'American Restaurants',\n      'shortName': 'American',\n      'icon': {'prefix': 'https://ss3.4sqi.net/img/categories_v2/food/default_',\n       'suffix': '.png'},\n      'primary': True}],\n    'referralId': 'v-1610997612',\n    'hasPerk': False},\n   {'id': '4ada04eff964a520571d21e3',\n    'name': \"Fran's\",\n    'location': {'address': '200 Victoria St',\n     'crossStreet': 'at Shuter St',\n     'lat': 43.65426474929814,\n     'lng': -79.37912005538317,\n     'labeledLatLngs': [{'label': 'display',\n       'lat': 43.65426474929814,\n       'lng': -79.37912005538317}],\n     'distance': 136,\n     'postalCode': 'M5B 2R3',\n     'cc': 'CA',\n     'city': 'Toronto',\n     'state': 'ON',\n     'country': 'Canada',\n     'formattedAddress': ['200 Victoria St (at Shuter St)',\n      'Toronto ON M5B 2R3',\n      'Canada']},\n    'categories': [{'id': '4bf58dd8d48988d147941735',\n      'name': 'Diner',\n      'pluralName': 'Diners',\n      'shortName': 'Diner',\n      'icon': {'prefix': 'https://ss3.4sqi.net/img/categories_v2/food/diner_',\n       'suffix': '.png'},\n      'primary': True}],\n    'referralId': 'v-1610997612',\n    'hasPerk': False},\n   {'id': '4fbbb3ace4b01e39077b4d55',\n    'name': 'Akashiro Japanese Restaurant & Bar',\n    'location': {'address': '220 Yonge St.',\n     'crossStreet': 'in Toronto Eaton Centre Urban Eatery',\n     'lat': 43.65596504293232,\n     'lng': -79.38054070644233,\n     'labeledLatLngs': [{'label': 'display',\n       'lat': 43.65596504293232,\n       'lng': -79.38054070644233}],\n     'distance': 200,\n     'cc': 'CA',\n     'city': 'Toronto',\n     'state': 'ON',\n     'country': 'Canada',\n     'formattedAddress': ['220 Yonge St. (in Toronto Eaton Centre Urban Eatery)',\n      'Toronto ON',\n      'Canada']},\n    'categories': [{'id': '4bf58dd8d48988d1d2941735',\n      'name': 'Sushi Restaurant',\n      'pluralName': 'Sushi Restaurants',\n      'shortName': 'Sushi',\n      'icon': {'prefix': 'https://ss3.4sqi.net/img/categories_v2/food/sushi_',\n       'suffix': '.png'},\n      'primary': True}],\n    'referralId': 'v-1610997612',\n    'hasPerk': False},\n   {'id': '4beb2c0ba9900f475b7a1740',\n    'name': 'Ninki Sushi',\n    'location': {'address': '40 King St W',\n     'crossStreet': 'at Bay St',\n     'lat': 43.649812174244005,\n     'lng': -79.37951837924346,\n     'labeledLatLngs': [{'label': 'display',\n       'lat': 43.649812174244005,\n       'lng': -79.37951837924346}],\n     'distance': 496,\n     'postalCode': 'M5H 1A1',\n     'cc': 'CA',\n     'neighborhood': 'Financial District',\n     'city': 'Toronto',\n     'state': 'ON',\n     'country': 'Canada',\n     'formattedAddress': ['40 King St W (at Bay St)',\n      'Toronto ON M5H 1A1',\n      'Canada']},\n    'categories': [{'id': '4bf58dd8d48988d111941735',\n      'name': 'Japanese Restaurant',\n      'pluralName': 'Japanese Restaurants',\n      'shortName': 'Japanese',\n      'icon': {'prefix': 'https://ss3.4sqi.net/img/categories_v2/food/japanese_',\n       'suffix': '.png'},\n      'primary': True}],\n    'referralId': 'v-1610997612',\n    'hasPerk': False},\n   {'id': '4c6abb8c2c29d13ad2720e41',\n    'name': 'Subway',\n    'location': {'address': '10 Dundas St E, No 337',\n     'crossStreet': 'at Yonge St.',\n     'lat': 43.6564939,\n     'lng': -79.3807983,\n     'labeledLatLngs': [{'label': 'display',\n       'lat': 43.6564939,\n       'lng': -79.3807983}],\n     'distance': 258,\n     'postalCode': 'M5B 2G9',\n     'cc': 'CA',\n     'city': 'Toronto',\n     'state': 'ON',\n     'country': 'Canada',\n     'formattedAddress': ['10 Dundas St E, No 337 (at Yonge St.)',\n      'Toronto ON M5B 2G9',\n      'Canada']},\n    'categories': [{'id': '4bf58dd8d48988d1c5941735',\n      'name': 'Sandwich Place',\n      'pluralName': 'Sandwich Places',\n      'shortName': 'Sandwiches',\n      'icon': {'prefix': 'https://ss3.4sqi.net/img/categories_v2/food/deli_',\n       'suffix': '.png'},\n      'primary': True}],\n    'referralId': 'v-1610997612',\n    'hasPerk': False},\n   {'id': '4ed5094f0e01fd2f5bc0190f',\n    'name': 'A&W',\n    'location': {'address': '1 Richmond Street West',\n     'lat': 43.651378,\n     'lng': -79.378986,\n     'labeledLatLngs': [{'label': 'display',\n       'lat': 43.651378,\n       'lng': -79.378986}],\n     'distance': 344,\n     'postalCode': 'M5H 3W4',\n     'cc': 'CA',\n     'city': 'Toronto',\n     'state': 'ON',\n     'country': 'Canada',\n     'formattedAddress': ['1 Richmond Street West',\n      'Toronto ON M5H 3W4',\n      'Canada']},\n    'categories': [{'id': '4bf58dd8d48988d16e941735',\n      'name': 'Fast Food Restaurant',\n      'pluralName': 'Fast Food Restaurants',\n      'shortName': 'Fast Food',\n      'icon': {'prefix': 'https://ss3.4sqi.net/img/categories_v2/food/fastfood_',\n       'suffix': '.png'},\n      'primary': True}],\n    'referralId': 'v-1610997612',\n    'hasPerk': False},\n   {'id': '4afb1ff7f964a5205b1b22e3',\n    'name': 'Spring Rolls',\n    'location': {'address': '40 Dundas St. W',\n     'crossStreet': 'at Yonge St.',\n     'lat': 43.655997379987994,\n     'lng': -79.38245534190555,\n     'labeledLatLngs': [{'label': 'display',\n       'lat': 43.655997379987994,\n       'lng': -79.38245534190555}],\n     'distance': 242,\n     'postalCode': 'M5G 2C2',\n     'cc': 'CA',\n     'city': 'Toronto',\n     'state': 'ON',\n     'country': 'Canada',\n     'formattedAddress': ['40 Dundas St. W (at Yonge St.)',\n      'Toronto ON M5G 2C2',\n      'Canada']},\n    'categories': [{'id': '4bf58dd8d48988d142941735',\n      'name': 'Asian Restaurant',\n      'pluralName': 'Asian Restaurants',\n      'shortName': 'Asian',\n      'icon': {'prefix': 'https://ss3.4sqi.net/img/categories_v2/food/asian_',\n       'suffix': '.png'},\n      'primary': True}],\n    'referralId': 'v-1610997612',\n    'hasPerk': False},\n   {'id': '4ae4b055f964a520229d21e3',\n    'name': 'Kyoto House Japanese Restaurant',\n    'location': {'address': '143 Dundas St. West',\n     'lat': 43.65538110598594,\n     'lng': -79.38527010094231,\n     'labeledLatLngs': [{'label': 'display',\n       'lat': 43.65538110598594,\n       'lng': -79.38527010094231}],\n     'distance': 383,\n     'cc': 'CA',\n     'city': 'Toronto',\n     'state': 'ON',\n     'country': 'Canada',\n     'formattedAddress': ['143 Dundas St. West', 'Toronto ON', 'Canada']},\n    'categories': [{'id': '4bf58dd8d48988d1d2941735',\n      'name': 'Sushi Restaurant',\n      'pluralName': 'Sushi Restaurants',\n      'shortName': 'Sushi',\n      'icon': {'prefix': 'https://ss3.4sqi.net/img/categories_v2/food/sushi_',\n       'suffix': '.png'},\n      'primary': True}],\n    'referralId': 'v-1610997612',\n    'hasPerk': False},\n   {'id': '4adc5c6af964a520da2b21e3',\n    'name': 'Mercatto',\n    'location': {'address': '330 Bay St.',\n     'crossStreet': 'btwn Temperance & Adelaide',\n     'lat': 43.6502431921682,\n     'lng': -79.38081989149896,\n     'labeledLatLngs': [{'label': 'display',\n       'lat': 43.6502431921682,\n       'lng': -79.38081989149896}],\n     'distance': 437,\n     'postalCode': 'M5H 2S8',\n     'cc': 'CA',\n     'city': 'Toronto',\n     'state': 'ON',\n     'country': 'Canada',\n     'formattedAddress': ['330 Bay St. (btwn Temperance & Adelaide)',\n      'Toronto ON M5H 2S8',\n      'Canada']},\n    'categories': [{'id': '4bf58dd8d48988d110941735',\n      'name': 'Italian Restaurant',\n      'pluralName': 'Italian Restaurants',\n      'shortName': 'Italian',\n      'icon': {'prefix': 'https://ss3.4sqi.net/img/categories_v2/food/italian_',\n       'suffix': '.png'},\n      'primary': True}],\n    'referralId': 'v-1610997612',\n    'hasPerk': False},\n   {'id': '4cffc78a75d3236a3b10e7f7',\n    'name': 'Osgoode Hall Restaurant',\n    'location': {'address': '130 Queen St W',\n     'crossStreet': 'University Ave',\n     'lat': 43.651978959035155,\n     'lng': -79.3850485857013,\n     'labeledLatLngs': [{'label': 'display',\n       'lat': 43.651978959035155,\n       'lng': -79.3850485857013}],\n     'distance': 419,\n     'postalCode': 'M5H 2N6',\n     'cc': 'CA',\n     'country': 'Canada',\n     'formattedAddress': ['130 Queen St W (University Ave)',\n      'M5H 2N6',\n      'Canada']},\n    'categories': [{'id': '4bf58dd8d48988d157941735',\n      'name': 'New American Restaurant',\n      'pluralName': 'New American Restaurants',\n      'shortName': 'New American',\n      'icon': {'prefix': 'https://ss3.4sqi.net/img/categories_v2/food/newamerican_',\n       'suffix': '.png'},\n      'primary': True}],\n    'referralId': 'v-1610997612',\n    'hasPerk': False},\n   {'id': '4b2a674ef964a52074a824e3',\n    'name': 'New Treasure Restaurant',\n    'location': {'address': '150 Dundas St W',\n     'crossStreet': 'at Elizabeth',\n     'lat': 43.65538444237565,\n     'lng': -79.3853618106867,\n     'labeledLatLngs': [{'label': 'display',\n       'lat': 43.65538444237565,\n       'lng': -79.3853618106867}],\n     'distance': 390,\n     'cc': 'CA',\n     'city': 'Toronto',\n     'state': 'ON',\n     'country': 'Canada',\n     'formattedAddress': ['150 Dundas St W (at Elizabeth)',\n      'Toronto ON',\n      'Canada']},\n    'categories': [{'id': '4bf58dd8d48988d1f5931735',\n      'name': 'Dim Sum Restaurant',\n      'pluralName': 'Dim Sum Restaurants',\n      'shortName': 'Dim Sum',\n      'icon': {'prefix': 'https://ss3.4sqi.net/img/categories_v2/food/dimsum_',\n       'suffix': '.png'},\n      'primary': True}],\n    'referralId': 'v-1610997612',\n    'hasPerk': False},\n   {'id': '4ddd83c788779c82beb061fc',\n    'name': \"Ali Baba's\",\n    'location': {'address': '199 Dundas St. W',\n     'crossStreet': 'at Centre Ave.',\n     'lat': 43.65491647880546,\n     'lng': -79.38717216891472,\n     'labeledLatLngs': [{'label': 'display',\n       'lat': 43.65491647880546,\n       'lng': -79.38717216891472}],\n     'distance': 518,\n     'postalCode': 'M5g 1c8',\n     'cc': 'CA',\n     'city': 'Toronto',\n     'state': 'ON',\n     'country': 'Canada',\n     'formattedAddress': ['199 Dundas St. W (at Centre Ave.)',\n      'Toronto ON M5g 1c8',\n      'Canada']},\n    'categories': [{'id': '4bf58dd8d48988d115941735',\n      'name': 'Middle Eastern Restaurant',\n      'pluralName': 'Middle Eastern Restaurants',\n      'shortName': 'Middle Eastern',\n      'icon': {'prefix': 'https://ss3.4sqi.net/img/categories_v2/food/middleeastern_',\n       'suffix': '.png'},\n      'primary': True}],\n    'referralId': 'v-1610997612',\n    'hasPerk': False},\n   {'id': '4c69740b8d22c9284d42b745',\n    'name': 'Wah Too Seafood Restaurant',\n    'location': {'address': '56 Centre Ave.',\n     'lat': 43.65483285234745,\n     'lng': -79.38720597193928,\n     'labeledLatLngs': [{'label': 'display',\n       'lat': 43.65483285234745,\n       'lng': -79.38720597193928}],\n     'distance': 520,\n     'postalCode': 'M5G 1R5',\n     'cc': 'CA',\n     'city': 'Toronto',\n     'state': 'ON',\n     'country': 'Canada',\n     'formattedAddress': ['56 Centre Ave.', 'Toronto ON M5G 1R5', 'Canada']},\n    'categories': [{'id': '4bf58dd8d48988d145941735',\n      'name': 'Chinese Restaurant',\n      'pluralName': 'Chinese Restaurants',\n      'shortName': 'Chinese',\n      'icon': {'prefix': 'https://ss3.4sqi.net/img/categories_v2/food/asian_',\n       'suffix': '.png'},\n      'primary': True}],\n    'referralId': 'v-1610997612',\n    'hasPerk': False},\n   {'id': '4ad7929cf964a520500c21e3',\n    'name': 'The Senator Restaurant',\n    'location': {'address': '249 Victoria Street',\n     'crossStreet': 'btwn Dundas St E and Shuter St',\n     'lat': 43.65564091455335,\n     'lng': -79.37919882575557,\n     'labeledLatLngs': [{'label': 'display',\n       'lat': 43.65564091455335,\n       'lng': -79.37919882575557}],\n     'distance': 208,\n     'postalCode': 'M5B 1T8',\n     'cc': 'CA',\n     'city': 'Toronto',\n     'state': 'ON',\n     'country': 'Canada',\n     'formattedAddress': ['249 Victoria Street (btwn Dundas St E and Shuter St)',\n      'Toronto ON M5B 1T8',\n      'Canada']},\n    'categories': [{'id': '4bf58dd8d48988d147941735',\n      'name': 'Diner',\n      'pluralName': 'Diners',\n      'shortName': 'Diner',\n      'icon': {'prefix': 'https://ss3.4sqi.net/img/categories_v2/food/diner_',\n       'suffix': '.png'},\n      'primary': True}],\n    'venuePage': {'id': '55585058'},\n    'referralId': 'v-1610997612',\n    'hasPerk': False},\n   {'id': '5202d246498e9649c88150b7',\n    'name': 'Toronto Chinese Academy',\n    'location': {'address': '133 Richmond Street West',\n     'crossStreet': 'York Street',\n     'lat': 43.65014006138457,\n     'lng': -79.38485690552969,\n     'labeledLatLngs': [{'label': 'display',\n       'lat': 43.65014006138457,\n       'lng': -79.38485690552969}],\n     'distance': 554,\n     'postalCode': 'M5H 2L3',\n     'cc': 'CA',\n     'neighborhood': 'Financial District',\n     'city': 'Toronto',\n     'state': 'ON',\n     'country': 'Canada',\n     'formattedAddress': ['133 Richmond Street West (York Street)',\n      'Toronto ON M5H 2L3',\n      'Canada']},\n    'categories': [{'id': '4bf58dd8d48988d1ae941735',\n      'name': 'University',\n      'pluralName': 'Universities',\n      'shortName': 'University',\n      'icon': {'prefix': 'https://ss3.4sqi.net/img/categories_v2/education/default_',\n       'suffix': '.png'},\n      'primary': True}],\n    'referralId': 'v-1610997612',\n    'hasPerk': False},\n   {'id': '4edbccaaf9abeea3db5268df',\n    'name': 'Terrace Restaurant at Elmwood',\n    'location': {'lat': 43.65610066909799,\n     'lng': -79.38148016065777,\n     'labeledLatLngs': [{'label': 'display',\n       'lat': 43.65610066909799,\n       'lng': -79.38148016065777}],\n     'distance': 221,\n     'cc': 'CA',\n     'country': 'Canada',\n     'formattedAddress': ['Canada']},\n    'categories': [{'id': '4bf58dd8d48988d14e941735',\n      'name': 'American Restaurant',\n      'pluralName': 'American Restaurants',\n      'shortName': 'American',\n      'icon': {'prefix': 'https://ss3.4sqi.net/img/categories_v2/food/default_',\n       'suffix': '.png'},\n      'primary': True}],\n    'referralId': 'v-1610997612',\n    'hasPerk': False},\n   {'id': '4df909dfe4cd2129701c0690',\n    'name': 'JOEY Eaton Centre',\n    'location': {'address': '1 Dundas St W',\n     'lat': 43.6560936540828,\n     'lng': -79.38187792357716,\n     'labeledLatLngs': [{'label': 'display',\n       'lat': 43.6560936540828,\n       'lng': -79.38187792357716}],\n     'distance': 230,\n     'postalCode': 'M5G 1Z3',\n     'cc': 'CA',\n     'city': 'Toronto',\n     'state': 'ON',\n     'country': 'Canada',\n     'formattedAddress': ['1 Dundas St W', 'Toronto ON M5G 1Z3', 'Canada']},\n    'categories': [{'id': '4bf58dd8d48988d157941735',\n      'name': 'New American Restaurant',\n      'pluralName': 'New American Restaurants',\n      'shortName': 'New American',\n      'icon': {'prefix': 'https://ss3.4sqi.net/img/categories_v2/food/newamerican_',\n       'suffix': '.png'},\n      'primary': True}],\n    'referralId': 'v-1610997612',\n    'hasPerk': False},\n   {'id': '4ad4c061f964a52095f720e3',\n    'name': 'Salad King',\n    'location': {'address': '340 Yonge St',\n     'crossStreet': 'at Gould St',\n     'lat': 43.65760101432665,\n     'lng': -79.38161963017174,\n     'labeledLatLngs': [{'label': 'display',\n       'lat': 43.65760101432665,\n       'lng': -79.38161963017174}],\n     'distance': 387,\n     'postalCode': 'M5B 1R7',\n     'cc': 'CA',\n     'city': 'Toronto',\n     'state': 'ON',\n     'country': 'Canada',\n     'formattedAddress': ['340 Yonge St (at Gould St)',\n      'Toronto ON M5B 1R7',\n      'Canada']},\n    'categories': [{'id': '4bf58dd8d48988d149941735',\n      'name': 'Thai Restaurant',\n      'pluralName': 'Thai Restaurants',\n      'shortName': 'Thai',\n      'icon': {'prefix': 'https://ss3.4sqi.net/img/categories_v2/food/thai_',\n       'suffix': '.png'},\n      'primary': True}],\n    'referralId': 'v-1610997612',\n    'hasPerk': False},\n   {'id': '4de827e4d4c0faa56428a51a',\n    'name': 'Yulla Asian Fusion Restaurant',\n    'location': {'lat': 43.651587,\n     'lng': -79.379232,\n     'labeledLatLngs': [{'label': 'display',\n       'lat': 43.651587,\n       'lng': -79.379232}],\n     'distance': 314,\n     'cc': 'CA',\n     'city': 'Toronto',\n     'state': 'ON',\n     'country': 'Canada',\n     'formattedAddress': ['Toronto ON', 'Canada']},\n    'categories': [{'id': '4bf58dd8d48988d142941735',\n      'name': 'Asian Restaurant',\n      'pluralName': 'Asian Restaurants',\n      'shortName': 'Asian',\n      'icon': {'prefix': 'https://ss3.4sqi.net/img/categories_v2/food/asian_',\n       'suffix': '.png'},\n      'primary': True}],\n    'referralId': 'v-1610997612',\n    'hasPerk': False},\n   {'id': '4c476d6719fde21e32410876',\n    'name': 'Cali Restaurant',\n    'location': {'address': '179 Dundas St. W.',\n     'crossStreet': 'at Chestnut',\n     'lat': 43.65506808,\n     'lng': -79.386375,\n     'labeledLatLngs': [{'label': 'display',\n       'lat': 43.65506808,\n       'lng': -79.386375}],\n     'distance': 459,\n     'postalCode': 'M5G',\n     'cc': 'CA',\n     'city': 'Toronto',\n     'state': 'ON',\n     'country': 'Canada',\n     'formattedAddress': ['179 Dundas St. W. (at Chestnut)',\n      'Toronto ON M5G',\n      'Canada']},\n    'categories': [{'id': '4bf58dd8d48988d14a941735',\n      'name': 'Vietnamese Restaurant',\n      'pluralName': 'Vietnamese Restaurants',\n      'shortName': 'Vietnamese',\n      'icon': {'prefix': 'https://ss3.4sqi.net/img/categories_v2/food/vietnamese_',\n       'suffix': '.png'},\n      'primary': True}],\n    'referralId': 'v-1610997612',\n    'hasPerk': False},\n   {'id': '4ad4c060f964a5205cf720e3',\n    'name': 'Lai Wah Heen',\n    'location': {'address': '108 Chestnut St.',\n     'crossStreet': 'Chestnut St & Dundas St',\n     'lat': 43.65503785867478,\n     'lng': -79.38589043402241,\n     'labeledLatLngs': [{'label': 'display',\n       'lat': 43.65503785867478,\n       'lng': -79.38589043402241}],\n     'distance': 420,\n     'postalCode': 'M5G 1R3',\n     'cc': 'CA',\n     'city': 'Toronto',\n     'state': 'ON',\n     'country': 'Canada',\n     'formattedAddress': ['108 Chestnut St. (Chestnut St & Dundas St)',\n      'Toronto ON M5G 1R3',\n      'Canada']},\n    'categories': [{'id': '4bf58dd8d48988d145941735',\n      'name': 'Chinese Restaurant',\n      'pluralName': 'Chinese Restaurants',\n      'shortName': 'Chinese',\n      'icon': {'prefix': 'https://ss3.4sqi.net/img/categories_v2/food/asian_',\n       'suffix': '.png'},\n      'primary': True}],\n    'referralId': 'v-1610997612',\n    'hasPerk': False},\n   {'id': '5834c90e110d032f3217f899',\n    'name': 'Maezo Restaurant & Bar',\n    'location': {'address': '67 Richmond Street West',\n     'crossStreet': 'Richmond and Bay Street',\n     'lat': 43.651090520885205,\n     'lng': -79.38184261322021,\n     'labeledLatLngs': [{'label': 'display',\n       'lat': 43.651090520885205,\n       'lng': -79.38184261322021}],\n     'distance': 353,\n     'postalCode': 'M5H 1Z5',\n     'cc': 'CA',\n     'city': 'Toronto',\n     'state': 'ON',\n     'country': 'Canada',\n     'formattedAddress': ['67 Richmond Street West (Richmond and Bay Street)',\n      'Toronto ON M5H 1Z5',\n      'Canada']},\n    'categories': [{'id': '4bf58dd8d48988d10f941735',\n      'name': 'Indian Restaurant',\n      'pluralName': 'Indian Restaurants',\n      'shortName': 'Indian',\n      'icon': {'prefix': 'https://ss3.4sqi.net/img/categories_v2/food/indian_',\n       'suffix': '.png'},\n      'primary': True}],\n    'venuePage': {'id': '369067217'},\n    'referralId': 'v-1610997612',\n    'hasPerk': False}]}}"
                    },
                    "execution_count": 35,
                    "metadata": {},
                    "output_type": "execute_result"
                }
            ],
            "source": "results = requests.get(url).json()\nresults"
        },
        {
            "cell_type": "markdown",
            "metadata": {},
            "source": "We will create a data frame for our results. we will filter unrelated information, and keep those related. I will write a function that Keep the ID and category of each item, and related information will also be kept. "
        },
        {
            "cell_type": "code",
            "execution_count": 8,
            "metadata": {},
            "outputs": [
                {
                    "name": "stderr",
                    "output_type": "stream",
                    "text": "/opt/conda/envs/Python-3.7-main/lib/python3.7/site-packages/ipykernel/__main__.py:2: FutureWarning: pandas.io.json.json_normalize is deprecated, use pandas.json_normalize instead\n  from ipykernel import kernelapp as app\n"
                },
                {
                    "data": {
                        "text/html": "<div>\n<style scoped>\n    .dataframe tbody tr th:only-of-type {\n        vertical-align: middle;\n    }\n\n    .dataframe tbody tr th {\n        vertical-align: top;\n    }\n\n    .dataframe thead th {\n        text-align: right;\n    }\n</style>\n<table border=\"1\" class=\"dataframe\">\n  <thead>\n    <tr style=\"text-align: right;\">\n      <th></th>\n      <th>id</th>\n      <th>name</th>\n      <th>categories</th>\n      <th>referralId</th>\n      <th>hasPerk</th>\n      <th>location.address</th>\n      <th>location.crossStreet</th>\n      <th>location.lat</th>\n      <th>location.lng</th>\n      <th>location.labeledLatLngs</th>\n      <th>location.distance</th>\n      <th>location.postalCode</th>\n      <th>location.cc</th>\n      <th>location.city</th>\n      <th>location.state</th>\n      <th>location.country</th>\n      <th>location.formattedAddress</th>\n      <th>venuePage.id</th>\n      <th>location.neighborhood</th>\n    </tr>\n  </thead>\n  <tbody>\n    <tr>\n      <th>0</th>\n      <td>4b2027b5f964a520f82d24e3</td>\n      <td>Hong Shing Chinese Restaurant</td>\n      <td>[{'id': '4bf58dd8d48988d145941735', 'name': 'C...</td>\n      <td>v-1610995314</td>\n      <td>False</td>\n      <td>195 Dundas St W</td>\n      <td>at University Ave</td>\n      <td>43.654925</td>\n      <td>-79.387089</td>\n      <td>[{'label': 'display', 'lat': 43.65492521335936...</td>\n      <td>512</td>\n      <td>M5G 1C7</td>\n      <td>CA</td>\n      <td>Toronto</td>\n      <td>ON</td>\n      <td>Canada</td>\n      <td>[195 Dundas St W (at University Ave), Toronto ...</td>\n      <td>60327598</td>\n      <td>NaN</td>\n    </tr>\n    <tr>\n      <th>1</th>\n      <td>52a7ae41498eed3af4d0a3fa</td>\n      <td>Yueh Tung Chinese Restaurant</td>\n      <td>[{'id': '4bf58dd8d48988d145941735', 'name': 'C...</td>\n      <td>v-1610995314</td>\n      <td>False</td>\n      <td>126 Elizabeth St.</td>\n      <td>Dundas St.</td>\n      <td>43.655281</td>\n      <td>-79.385337</td>\n      <td>[{'label': 'display', 'lat': 43.65528126342919...</td>\n      <td>384</td>\n      <td>M5G 1P5</td>\n      <td>CA</td>\n      <td>Toronto</td>\n      <td>ON</td>\n      <td>Canada</td>\n      <td>[126 Elizabeth St. (Dundas St.), Toronto ON M5...</td>\n      <td>NaN</td>\n      <td>NaN</td>\n    </tr>\n    <tr>\n      <th>2</th>\n      <td>4adf80b9f964a5202f7b21e3</td>\n      <td>Good View Chinese Restaurant</td>\n      <td>[{'id': '4bf58dd8d48988d145941735', 'name': 'C...</td>\n      <td>v-1610995314</td>\n      <td>False</td>\n      <td>132 Dundas Street East</td>\n      <td>NaN</td>\n      <td>43.656791</td>\n      <td>-79.376139</td>\n      <td>[{'label': 'display', 'lat': 43.65679124992238...</td>\n      <td>475</td>\n      <td>NaN</td>\n      <td>CA</td>\n      <td>Toronto</td>\n      <td>ON</td>\n      <td>Canada</td>\n      <td>[132 Dundas Street East, Toronto ON, Canada]</td>\n      <td>NaN</td>\n      <td>NaN</td>\n    </tr>\n    <tr>\n      <th>3</th>\n      <td>4f04779a02d5cce0cfc06151</td>\n      <td>Chinese Visa Application Service Center</td>\n      <td>[{'id': '4bf58dd8d48988d126941735', 'name': 'G...</td>\n      <td>v-1610995314</td>\n      <td>False</td>\n      <td>393 University Ave, Suite 1501</td>\n      <td>in University Centre</td>\n      <td>43.654028</td>\n      <td>-79.387365</td>\n      <td>[{'label': 'display', 'lat': 43.65402839343005...</td>\n      <td>528</td>\n      <td>NaN</td>\n      <td>CA</td>\n      <td>Toronto</td>\n      <td>ON</td>\n      <td>Canada</td>\n      <td>[393 University Ave, Suite 1501 (in University...</td>\n      <td>NaN</td>\n      <td>NaN</td>\n    </tr>\n    <tr>\n      <th>4</th>\n      <td>53ae6660498e1ac3c1282743</td>\n      <td>Castries Bar &amp; Five Way Restaurant</td>\n      <td>[{'id': '4bf58dd8d48988d144941735', 'name': 'C...</td>\n      <td>v-1610995314</td>\n      <td>False</td>\n      <td>NaN</td>\n      <td>NaN</td>\n      <td>43.654728</td>\n      <td>-79.380928</td>\n      <td>[{'label': 'display', 'lat': 43.65472793579101...</td>\n      <td>62</td>\n      <td>NaN</td>\n      <td>CA</td>\n      <td>NaN</td>\n      <td>NaN</td>\n      <td>Canada</td>\n      <td>[Canada]</td>\n      <td>NaN</td>\n      <td>NaN</td>\n    </tr>\n  </tbody>\n</table>\n</div>",
                        "text/plain": "                         id                                     name  \\\n0  4b2027b5f964a520f82d24e3            Hong Shing Chinese Restaurant   \n1  52a7ae41498eed3af4d0a3fa             Yueh Tung Chinese Restaurant   \n2  4adf80b9f964a5202f7b21e3             Good View Chinese Restaurant   \n3  4f04779a02d5cce0cfc06151  Chinese Visa Application Service Center   \n4  53ae6660498e1ac3c1282743       Castries Bar & Five Way Restaurant   \n\n                                          categories    referralId  hasPerk  \\\n0  [{'id': '4bf58dd8d48988d145941735', 'name': 'C...  v-1610995314    False   \n1  [{'id': '4bf58dd8d48988d145941735', 'name': 'C...  v-1610995314    False   \n2  [{'id': '4bf58dd8d48988d145941735', 'name': 'C...  v-1610995314    False   \n3  [{'id': '4bf58dd8d48988d126941735', 'name': 'G...  v-1610995314    False   \n4  [{'id': '4bf58dd8d48988d144941735', 'name': 'C...  v-1610995314    False   \n\n                 location.address  location.crossStreet  location.lat  \\\n0                 195 Dundas St W     at University Ave     43.654925   \n1               126 Elizabeth St.            Dundas St.     43.655281   \n2          132 Dundas Street East                   NaN     43.656791   \n3  393 University Ave, Suite 1501  in University Centre     43.654028   \n4                             NaN                   NaN     43.654728   \n\n   location.lng                            location.labeledLatLngs  \\\n0    -79.387089  [{'label': 'display', 'lat': 43.65492521335936...   \n1    -79.385337  [{'label': 'display', 'lat': 43.65528126342919...   \n2    -79.376139  [{'label': 'display', 'lat': 43.65679124992238...   \n3    -79.387365  [{'label': 'display', 'lat': 43.65402839343005...   \n4    -79.380928  [{'label': 'display', 'lat': 43.65472793579101...   \n\n   location.distance location.postalCode location.cc location.city  \\\n0                512             M5G 1C7          CA       Toronto   \n1                384             M5G 1P5          CA       Toronto   \n2                475                 NaN          CA       Toronto   \n3                528                 NaN          CA       Toronto   \n4                 62                 NaN          CA           NaN   \n\n  location.state location.country  \\\n0             ON           Canada   \n1             ON           Canada   \n2             ON           Canada   \n3             ON           Canada   \n4            NaN           Canada   \n\n                           location.formattedAddress venuePage.id  \\\n0  [195 Dundas St W (at University Ave), Toronto ...     60327598   \n1  [126 Elizabeth St. (Dundas St.), Toronto ON M5...          NaN   \n2       [132 Dundas Street East, Toronto ON, Canada]          NaN   \n3  [393 University Ave, Suite 1501 (in University...          NaN   \n4                                           [Canada]          NaN   \n\n  location.neighborhood  \n0                   NaN  \n1                   NaN  \n2                   NaN  \n3                   NaN  \n4                   NaN  "
                    },
                    "execution_count": 8,
                    "metadata": {},
                    "output_type": "execute_result"
                }
            ],
            "source": "venues = results['response']['venues']\ndataframe = json_normalize(venues)\ndataframe.head()\n"
        },
        {
            "cell_type": "code",
            "execution_count": 9,
            "metadata": {},
            "outputs": [
                {
                    "data": {
                        "text/plain": "(30, 19)"
                    },
                    "execution_count": 9,
                    "metadata": {},
                    "output_type": "execute_result"
                }
            ],
            "source": "dataframe.shape"
        },
        {
            "cell_type": "code",
            "execution_count": 10,
            "metadata": {},
            "outputs": [
                {
                    "data": {
                        "text/html": "<div>\n<style scoped>\n    .dataframe tbody tr th:only-of-type {\n        vertical-align: middle;\n    }\n\n    .dataframe tbody tr th {\n        vertical-align: top;\n    }\n\n    .dataframe thead th {\n        text-align: right;\n    }\n</style>\n<table border=\"1\" class=\"dataframe\">\n  <thead>\n    <tr style=\"text-align: right;\">\n      <th></th>\n      <th>id</th>\n      <th>name</th>\n      <th>categories</th>\n      <th>address</th>\n      <th>crossStreet</th>\n      <th>lat</th>\n      <th>lng</th>\n      <th>labeledLatLngs</th>\n      <th>distance</th>\n      <th>postalCode</th>\n      <th>cc</th>\n      <th>city</th>\n      <th>state</th>\n      <th>country</th>\n      <th>formattedAddress</th>\n      <th>neighborhood</th>\n      <th>id</th>\n    </tr>\n  </thead>\n  <tbody>\n    <tr>\n      <th>0</th>\n      <td>4b2027b5f964a520f82d24e3</td>\n      <td>Hong Shing Chinese Restaurant</td>\n      <td>Chinese Restaurant</td>\n      <td>195 Dundas St W</td>\n      <td>at University Ave</td>\n      <td>43.654925</td>\n      <td>-79.387089</td>\n      <td>[{'label': 'display', 'lat': 43.65492521335936...</td>\n      <td>512</td>\n      <td>M5G 1C7</td>\n      <td>CA</td>\n      <td>Toronto</td>\n      <td>ON</td>\n      <td>Canada</td>\n      <td>[195 Dundas St W (at University Ave), Toronto ...</td>\n      <td>NaN</td>\n      <td>4b2027b5f964a520f82d24e3</td>\n    </tr>\n    <tr>\n      <th>1</th>\n      <td>52a7ae41498eed3af4d0a3fa</td>\n      <td>Yueh Tung Chinese Restaurant</td>\n      <td>Chinese Restaurant</td>\n      <td>126 Elizabeth St.</td>\n      <td>Dundas St.</td>\n      <td>43.655281</td>\n      <td>-79.385337</td>\n      <td>[{'label': 'display', 'lat': 43.65528126342919...</td>\n      <td>384</td>\n      <td>M5G 1P5</td>\n      <td>CA</td>\n      <td>Toronto</td>\n      <td>ON</td>\n      <td>Canada</td>\n      <td>[126 Elizabeth St. (Dundas St.), Toronto ON M5...</td>\n      <td>NaN</td>\n      <td>52a7ae41498eed3af4d0a3fa</td>\n    </tr>\n    <tr>\n      <th>2</th>\n      <td>4adf80b9f964a5202f7b21e3</td>\n      <td>Good View Chinese Restaurant</td>\n      <td>Chinese Restaurant</td>\n      <td>132 Dundas Street East</td>\n      <td>NaN</td>\n      <td>43.656791</td>\n      <td>-79.376139</td>\n      <td>[{'label': 'display', 'lat': 43.65679124992238...</td>\n      <td>475</td>\n      <td>NaN</td>\n      <td>CA</td>\n      <td>Toronto</td>\n      <td>ON</td>\n      <td>Canada</td>\n      <td>[132 Dundas Street East, Toronto ON, Canada]</td>\n      <td>NaN</td>\n      <td>4adf80b9f964a5202f7b21e3</td>\n    </tr>\n    <tr>\n      <th>3</th>\n      <td>4f04779a02d5cce0cfc06151</td>\n      <td>Chinese Visa Application Service Center</td>\n      <td>Government Building</td>\n      <td>393 University Ave, Suite 1501</td>\n      <td>in University Centre</td>\n      <td>43.654028</td>\n      <td>-79.387365</td>\n      <td>[{'label': 'display', 'lat': 43.65402839343005...</td>\n      <td>528</td>\n      <td>NaN</td>\n      <td>CA</td>\n      <td>Toronto</td>\n      <td>ON</td>\n      <td>Canada</td>\n      <td>[393 University Ave, Suite 1501 (in University...</td>\n      <td>NaN</td>\n      <td>4f04779a02d5cce0cfc06151</td>\n    </tr>\n    <tr>\n      <th>4</th>\n      <td>53ae6660498e1ac3c1282743</td>\n      <td>Castries Bar &amp; Five Way Restaurant</td>\n      <td>Caribbean Restaurant</td>\n      <td>NaN</td>\n      <td>NaN</td>\n      <td>43.654728</td>\n      <td>-79.380928</td>\n      <td>[{'label': 'display', 'lat': 43.65472793579101...</td>\n      <td>62</td>\n      <td>NaN</td>\n      <td>CA</td>\n      <td>NaN</td>\n      <td>NaN</td>\n      <td>Canada</td>\n      <td>[Canada]</td>\n      <td>NaN</td>\n      <td>53ae6660498e1ac3c1282743</td>\n    </tr>\n  </tbody>\n</table>\n</div>",
                        "text/plain": "                         id                                     name  \\\n0  4b2027b5f964a520f82d24e3            Hong Shing Chinese Restaurant   \n1  52a7ae41498eed3af4d0a3fa             Yueh Tung Chinese Restaurant   \n2  4adf80b9f964a5202f7b21e3             Good View Chinese Restaurant   \n3  4f04779a02d5cce0cfc06151  Chinese Visa Application Service Center   \n4  53ae6660498e1ac3c1282743       Castries Bar & Five Way Restaurant   \n\n             categories                         address           crossStreet  \\\n0    Chinese Restaurant                 195 Dundas St W     at University Ave   \n1    Chinese Restaurant               126 Elizabeth St.            Dundas St.   \n2    Chinese Restaurant          132 Dundas Street East                   NaN   \n3   Government Building  393 University Ave, Suite 1501  in University Centre   \n4  Caribbean Restaurant                             NaN                   NaN   \n\n         lat        lng                                     labeledLatLngs  \\\n0  43.654925 -79.387089  [{'label': 'display', 'lat': 43.65492521335936...   \n1  43.655281 -79.385337  [{'label': 'display', 'lat': 43.65528126342919...   \n2  43.656791 -79.376139  [{'label': 'display', 'lat': 43.65679124992238...   \n3  43.654028 -79.387365  [{'label': 'display', 'lat': 43.65402839343005...   \n4  43.654728 -79.380928  [{'label': 'display', 'lat': 43.65472793579101...   \n\n   distance postalCode  cc     city state country  \\\n0       512    M5G 1C7  CA  Toronto    ON  Canada   \n1       384    M5G 1P5  CA  Toronto    ON  Canada   \n2       475        NaN  CA  Toronto    ON  Canada   \n3       528        NaN  CA  Toronto    ON  Canada   \n4        62        NaN  CA      NaN   NaN  Canada   \n\n                                    formattedAddress neighborhood  \\\n0  [195 Dundas St W (at University Ave), Toronto ...          NaN   \n1  [126 Elizabeth St. (Dundas St.), Toronto ON M5...          NaN   \n2       [132 Dundas Street East, Toronto ON, Canada]          NaN   \n3  [393 University Ave, Suite 1501 (in University...          NaN   \n4                                           [Canada]          NaN   \n\n                         id  \n0  4b2027b5f964a520f82d24e3  \n1  52a7ae41498eed3af4d0a3fa  \n2  4adf80b9f964a5202f7b21e3  \n3  4f04779a02d5cce0cfc06151  \n4  53ae6660498e1ac3c1282743  "
                    },
                    "execution_count": 10,
                    "metadata": {},
                    "output_type": "execute_result"
                }
            ],
            "source": "filtered_columns = ['id','name', 'categories'] + [col for col in dataframe.columns if col.startswith('location.')] + ['id']\ndataframe_filtered = dataframe.loc[:, filtered_columns]\n\n# function that extracts the category of the venue\ndef get_category_type(row):\n    try:\n        categories_list = row['categories']\n    except:\n        categories_list = row['venue.categories']\n        \n    if len(categories_list) == 0:\n        return None\n    else:\n        return categories_list[0]['name']\n\n# filter the category for each row\ndataframe_filtered['categories'] = dataframe_filtered.apply(get_category_type, axis=1)\n\n# clean column names by keeping only last term\ndataframe_filtered.columns = [column.split('.')[-1] for column in dataframe_filtered.columns]\n\ndataframe_filtered.head()"
        },
        {
            "cell_type": "markdown",
            "metadata": {},
            "source": "Now, we filter the information again. category is Chinese Restaurant. "
        },
        {
            "cell_type": "code",
            "execution_count": 11,
            "metadata": {},
            "outputs": [
                {
                    "data": {
                        "text/plain": "0     Hong Shing Chinese Restaurant\n1      Yueh Tung Chinese Restaurant\n2      Good View Chinese Restaurant\n18       Wah Too Seafood Restaurant\n29                     Lai Wah Heen\nName: name, dtype: object"
                    },
                    "execution_count": 11,
                    "metadata": {},
                    "output_type": "execute_result"
                }
            ],
            "source": "df = dataframe_filtered[dataframe_filtered.categories == 'Chinese Restaurant']\ndf.name"
        },
        {
            "cell_type": "markdown",
            "metadata": {},
            "source": "Now, let's create a map to visualized those restaurants. it also give us a idea how much clusters may be needed. "
        },
        {
            "cell_type": "code",
            "execution_count": 12,
            "metadata": {
                "scrolled": true
            },
            "outputs": [
                {
                    "data": {
                        "text/html": "<div style=\"width:100%;\"><div style=\"position:relative;width:100%;height:0;padding-bottom:60%;\"><span style=\"color:#565656\">Make this Notebook Trusted to load map: File -> Trust Notebook</span><iframe src=\"about:blank\" style=\"position:absolute;width:100%;height:100%;left:0;top:0;border:none !important;\" data-html=%3C%21DOCTYPE%20html%3E%0A%3Chead%3E%20%20%20%20%0A%20%20%20%20%3Cmeta%20http-equiv%3D%22content-type%22%20content%3D%22text/html%3B%20charset%3DUTF-8%22%20/%3E%0A%20%20%20%20%3Cscript%3EL_PREFER_CANVAS%20%3D%20false%3B%20L_NO_TOUCH%20%3D%20false%3B%20L_DISABLE_3D%20%3D%20false%3B%3C/script%3E%0A%20%20%20%20%3Cscript%20src%3D%22https%3A//cdn.jsdelivr.net/npm/leaflet%401.2.0/dist/leaflet.js%22%3E%3C/script%3E%0A%20%20%20%20%3Cscript%20src%3D%22https%3A//ajax.googleapis.com/ajax/libs/jquery/1.11.1/jquery.min.js%22%3E%3C/script%3E%0A%20%20%20%20%3Cscript%20src%3D%22https%3A//maxcdn.bootstrapcdn.com/bootstrap/3.2.0/js/bootstrap.min.js%22%3E%3C/script%3E%0A%20%20%20%20%3Cscript%20src%3D%22https%3A//cdnjs.cloudflare.com/ajax/libs/Leaflet.awesome-markers/2.0.2/leaflet.awesome-markers.js%22%3E%3C/script%3E%0A%20%20%20%20%3Clink%20rel%3D%22stylesheet%22%20href%3D%22https%3A//cdn.jsdelivr.net/npm/leaflet%401.2.0/dist/leaflet.css%22/%3E%0A%20%20%20%20%3Clink%20rel%3D%22stylesheet%22%20href%3D%22https%3A//maxcdn.bootstrapcdn.com/bootstrap/3.2.0/css/bootstrap.min.css%22/%3E%0A%20%20%20%20%3Clink%20rel%3D%22stylesheet%22%20href%3D%22https%3A//maxcdn.bootstrapcdn.com/bootstrap/3.2.0/css/bootstrap-theme.min.css%22/%3E%0A%20%20%20%20%3Clink%20rel%3D%22stylesheet%22%20href%3D%22https%3A//maxcdn.bootstrapcdn.com/font-awesome/4.6.3/css/font-awesome.min.css%22/%3E%0A%20%20%20%20%3Clink%20rel%3D%22stylesheet%22%20href%3D%22https%3A//cdnjs.cloudflare.com/ajax/libs/Leaflet.awesome-markers/2.0.2/leaflet.awesome-markers.css%22/%3E%0A%20%20%20%20%3Clink%20rel%3D%22stylesheet%22%20href%3D%22https%3A//rawgit.com/python-visualization/folium/master/folium/templates/leaflet.awesome.rotate.css%22/%3E%0A%20%20%20%20%3Cstyle%3Ehtml%2C%20body%20%7Bwidth%3A%20100%25%3Bheight%3A%20100%25%3Bmargin%3A%200%3Bpadding%3A%200%3B%7D%3C/style%3E%0A%20%20%20%20%3Cstyle%3E%23map%20%7Bposition%3Aabsolute%3Btop%3A0%3Bbottom%3A0%3Bright%3A0%3Bleft%3A0%3B%7D%3C/style%3E%0A%20%20%20%20%0A%20%20%20%20%20%20%20%20%20%20%20%20%3Cstyle%3E%20%23map_09ef0cf794e841a794db920af33a93fe%20%7B%0A%20%20%20%20%20%20%20%20%20%20%20%20%20%20%20%20position%20%3A%20relative%3B%0A%20%20%20%20%20%20%20%20%20%20%20%20%20%20%20%20width%20%3A%20100.0%25%3B%0A%20%20%20%20%20%20%20%20%20%20%20%20%20%20%20%20height%3A%20100.0%25%3B%0A%20%20%20%20%20%20%20%20%20%20%20%20%20%20%20%20left%3A%200.0%25%3B%0A%20%20%20%20%20%20%20%20%20%20%20%20%20%20%20%20top%3A%200.0%25%3B%0A%20%20%20%20%20%20%20%20%20%20%20%20%20%20%20%20%7D%0A%20%20%20%20%20%20%20%20%20%20%20%20%3C/style%3E%0A%20%20%20%20%20%20%20%20%0A%3C/head%3E%0A%3Cbody%3E%20%20%20%20%0A%20%20%20%20%0A%20%20%20%20%20%20%20%20%20%20%20%20%3Cdiv%20class%3D%22folium-map%22%20id%3D%22map_09ef0cf794e841a794db920af33a93fe%22%20%3E%3C/div%3E%0A%20%20%20%20%20%20%20%20%0A%3C/body%3E%0A%3Cscript%3E%20%20%20%20%0A%20%20%20%20%0A%0A%20%20%20%20%20%20%20%20%20%20%20%20%0A%20%20%20%20%20%20%20%20%20%20%20%20%20%20%20%20var%20bounds%20%3D%20null%3B%0A%20%20%20%20%20%20%20%20%20%20%20%20%0A%0A%20%20%20%20%20%20%20%20%20%20%20%20var%20map_09ef0cf794e841a794db920af33a93fe%20%3D%20L.map%28%0A%20%20%20%20%20%20%20%20%20%20%20%20%20%20%20%20%20%20%20%20%20%20%20%20%20%20%20%20%20%20%20%20%20%20%27map_09ef0cf794e841a794db920af33a93fe%27%2C%0A%20%20%20%20%20%20%20%20%20%20%20%20%20%20%20%20%20%20%20%20%20%20%20%20%20%20%20%20%20%20%20%20%20%20%7Bcenter%3A%20%5B43.6541737%2C-79.38081164513409%5D%2C%0A%20%20%20%20%20%20%20%20%20%20%20%20%20%20%20%20%20%20%20%20%20%20%20%20%20%20%20%20%20%20%20%20%20%20zoom%3A%2013%2C%0A%20%20%20%20%20%20%20%20%20%20%20%20%20%20%20%20%20%20%20%20%20%20%20%20%20%20%20%20%20%20%20%20%20%20maxBounds%3A%20bounds%2C%0A%20%20%20%20%20%20%20%20%20%20%20%20%20%20%20%20%20%20%20%20%20%20%20%20%20%20%20%20%20%20%20%20%20%20layers%3A%20%5B%5D%2C%0A%20%20%20%20%20%20%20%20%20%20%20%20%20%20%20%20%20%20%20%20%20%20%20%20%20%20%20%20%20%20%20%20%20%20worldCopyJump%3A%20false%2C%0A%20%20%20%20%20%20%20%20%20%20%20%20%20%20%20%20%20%20%20%20%20%20%20%20%20%20%20%20%20%20%20%20%20%20crs%3A%20L.CRS.EPSG3857%0A%20%20%20%20%20%20%20%20%20%20%20%20%20%20%20%20%20%20%20%20%20%20%20%20%20%20%20%20%20%20%20%20%20%7D%29%3B%0A%20%20%20%20%20%20%20%20%20%20%20%20%0A%20%20%20%20%20%20%20%20%0A%20%20%20%20%0A%20%20%20%20%20%20%20%20%20%20%20%20var%20tile_layer_2cfc83f7b07843d0ba9bf30923d358fc%20%3D%20L.tileLayer%28%0A%20%20%20%20%20%20%20%20%20%20%20%20%20%20%20%20%27https%3A//%7Bs%7D.tile.openstreetmap.org/%7Bz%7D/%7Bx%7D/%7By%7D.png%27%2C%0A%20%20%20%20%20%20%20%20%20%20%20%20%20%20%20%20%7B%0A%20%20%22attribution%22%3A%20null%2C%0A%20%20%22detectRetina%22%3A%20false%2C%0A%20%20%22maxZoom%22%3A%2018%2C%0A%20%20%22minZoom%22%3A%201%2C%0A%20%20%22noWrap%22%3A%20false%2C%0A%20%20%22subdomains%22%3A%20%22abc%22%0A%7D%0A%20%20%20%20%20%20%20%20%20%20%20%20%20%20%20%20%29.addTo%28map_09ef0cf794e841a794db920af33a93fe%29%3B%0A%20%20%20%20%20%20%20%20%0A%20%20%20%20%0A%20%20%20%20%20%20%20%20%20%20%20%20var%20circle_marker_1265d50d683f48d98834bde1368658b8%20%3D%20L.circleMarker%28%0A%20%20%20%20%20%20%20%20%20%20%20%20%20%20%20%20%5B43.6541737%2C-79.38081164513409%5D%2C%0A%20%20%20%20%20%20%20%20%20%20%20%20%20%20%20%20%7B%0A%20%20%22bubblingMouseEvents%22%3A%20true%2C%0A%20%20%22color%22%3A%20%22red%22%2C%0A%20%20%22dashArray%22%3A%20null%2C%0A%20%20%22dashOffset%22%3A%20null%2C%0A%20%20%22fill%22%3A%20true%2C%0A%20%20%22fillColor%22%3A%20%22red%22%2C%0A%20%20%22fillOpacity%22%3A%200.6%2C%0A%20%20%22fillRule%22%3A%20%22evenodd%22%2C%0A%20%20%22lineCap%22%3A%20%22round%22%2C%0A%20%20%22lineJoin%22%3A%20%22round%22%2C%0A%20%20%22opacity%22%3A%201.0%2C%0A%20%20%22radius%22%3A%2010%2C%0A%20%20%22stroke%22%3A%20true%2C%0A%20%20%22weight%22%3A%203%0A%7D%0A%20%20%20%20%20%20%20%20%20%20%20%20%20%20%20%20%29.addTo%28map_09ef0cf794e841a794db920af33a93fe%29%3B%0A%20%20%20%20%20%20%20%20%20%20%20%20%0A%20%20%20%20%0A%20%20%20%20%20%20%20%20%20%20%20%20var%20popup_ea00ac682e0043e7add2d643e99b69ea%20%3D%20L.popup%28%7BmaxWidth%3A%20%27300%27%7D%29%3B%0A%0A%20%20%20%20%20%20%20%20%20%20%20%20%0A%20%20%20%20%20%20%20%20%20%20%20%20%20%20%20%20var%20html_7339ef36cb7448fa8cb27d129425f227%20%3D%20%24%28%27%3Cdiv%20id%3D%22html_7339ef36cb7448fa8cb27d129425f227%22%20style%3D%22width%3A%20100.0%25%3B%20height%3A%20100.0%25%3B%22%3EConrad%20Hotel%3C/div%3E%27%29%5B0%5D%3B%0A%20%20%20%20%20%20%20%20%20%20%20%20%20%20%20%20popup_ea00ac682e0043e7add2d643e99b69ea.setContent%28html_7339ef36cb7448fa8cb27d129425f227%29%3B%0A%20%20%20%20%20%20%20%20%20%20%20%20%0A%0A%20%20%20%20%20%20%20%20%20%20%20%20circle_marker_1265d50d683f48d98834bde1368658b8.bindPopup%28popup_ea00ac682e0043e7add2d643e99b69ea%29%3B%0A%0A%20%20%20%20%20%20%20%20%20%20%20%20%0A%20%20%20%20%20%20%20%20%0A%20%20%20%20%0A%20%20%20%20%20%20%20%20%20%20%20%20var%20circle_marker_c118feff61f143ff86c091aaef9a1f21%20%3D%20L.circleMarker%28%0A%20%20%20%20%20%20%20%20%20%20%20%20%20%20%20%20%5B43.65492521335936%2C-79.38708916106386%5D%2C%0A%20%20%20%20%20%20%20%20%20%20%20%20%20%20%20%20%7B%0A%20%20%22bubblingMouseEvents%22%3A%20true%2C%0A%20%20%22color%22%3A%20%22blue%22%2C%0A%20%20%22dashArray%22%3A%20null%2C%0A%20%20%22dashOffset%22%3A%20null%2C%0A%20%20%22fill%22%3A%20true%2C%0A%20%20%22fillColor%22%3A%20%22blue%22%2C%0A%20%20%22fillOpacity%22%3A%200.6%2C%0A%20%20%22fillRule%22%3A%20%22evenodd%22%2C%0A%20%20%22lineCap%22%3A%20%22round%22%2C%0A%20%20%22lineJoin%22%3A%20%22round%22%2C%0A%20%20%22opacity%22%3A%201.0%2C%0A%20%20%22radius%22%3A%205%2C%0A%20%20%22stroke%22%3A%20true%2C%0A%20%20%22weight%22%3A%203%0A%7D%0A%20%20%20%20%20%20%20%20%20%20%20%20%20%20%20%20%29.addTo%28map_09ef0cf794e841a794db920af33a93fe%29%3B%0A%20%20%20%20%20%20%20%20%20%20%20%20%0A%20%20%20%20%0A%20%20%20%20%20%20%20%20%20%20%20%20var%20popup_fedcd4210de946a5a6dd0bd5268022b5%20%3D%20L.popup%28%7BmaxWidth%3A%20%27300%27%7D%29%3B%0A%0A%20%20%20%20%20%20%20%20%20%20%20%20%0A%20%20%20%20%20%20%20%20%20%20%20%20%20%20%20%20var%20html_22ac448bf93c4d2caa677389b9a7346f%20%3D%20%24%28%27%3Cdiv%20id%3D%22html_22ac448bf93c4d2caa677389b9a7346f%22%20style%3D%22width%3A%20100.0%25%3B%20height%3A%20100.0%25%3B%22%3EChinese%20Restaurant%3C/div%3E%27%29%5B0%5D%3B%0A%20%20%20%20%20%20%20%20%20%20%20%20%20%20%20%20popup_fedcd4210de946a5a6dd0bd5268022b5.setContent%28html_22ac448bf93c4d2caa677389b9a7346f%29%3B%0A%20%20%20%20%20%20%20%20%20%20%20%20%0A%0A%20%20%20%20%20%20%20%20%20%20%20%20circle_marker_c118feff61f143ff86c091aaef9a1f21.bindPopup%28popup_fedcd4210de946a5a6dd0bd5268022b5%29%3B%0A%0A%20%20%20%20%20%20%20%20%20%20%20%20%0A%20%20%20%20%20%20%20%20%0A%20%20%20%20%0A%20%20%20%20%20%20%20%20%20%20%20%20var%20circle_marker_0185025dc0e54fd0b652903c8fc8eb75%20%3D%20L.circleMarker%28%0A%20%20%20%20%20%20%20%20%20%20%20%20%20%20%20%20%5B43.655281263429195%2C-79.3853365267765%5D%2C%0A%20%20%20%20%20%20%20%20%20%20%20%20%20%20%20%20%7B%0A%20%20%22bubblingMouseEvents%22%3A%20true%2C%0A%20%20%22color%22%3A%20%22blue%22%2C%0A%20%20%22dashArray%22%3A%20null%2C%0A%20%20%22dashOffset%22%3A%20null%2C%0A%20%20%22fill%22%3A%20true%2C%0A%20%20%22fillColor%22%3A%20%22blue%22%2C%0A%20%20%22fillOpacity%22%3A%200.6%2C%0A%20%20%22fillRule%22%3A%20%22evenodd%22%2C%0A%20%20%22lineCap%22%3A%20%22round%22%2C%0A%20%20%22lineJoin%22%3A%20%22round%22%2C%0A%20%20%22opacity%22%3A%201.0%2C%0A%20%20%22radius%22%3A%205%2C%0A%20%20%22stroke%22%3A%20true%2C%0A%20%20%22weight%22%3A%203%0A%7D%0A%20%20%20%20%20%20%20%20%20%20%20%20%20%20%20%20%29.addTo%28map_09ef0cf794e841a794db920af33a93fe%29%3B%0A%20%20%20%20%20%20%20%20%20%20%20%20%0A%20%20%20%20%0A%20%20%20%20%20%20%20%20%20%20%20%20var%20popup_1f6d1caa95bd4efca8751cebd017db84%20%3D%20L.popup%28%7BmaxWidth%3A%20%27300%27%7D%29%3B%0A%0A%20%20%20%20%20%20%20%20%20%20%20%20%0A%20%20%20%20%20%20%20%20%20%20%20%20%20%20%20%20var%20html_cdb289982c4b45ca80ca3a045e55aa95%20%3D%20%24%28%27%3Cdiv%20id%3D%22html_cdb289982c4b45ca80ca3a045e55aa95%22%20style%3D%22width%3A%20100.0%25%3B%20height%3A%20100.0%25%3B%22%3EChinese%20Restaurant%3C/div%3E%27%29%5B0%5D%3B%0A%20%20%20%20%20%20%20%20%20%20%20%20%20%20%20%20popup_1f6d1caa95bd4efca8751cebd017db84.setContent%28html_cdb289982c4b45ca80ca3a045e55aa95%29%3B%0A%20%20%20%20%20%20%20%20%20%20%20%20%0A%0A%20%20%20%20%20%20%20%20%20%20%20%20circle_marker_0185025dc0e54fd0b652903c8fc8eb75.bindPopup%28popup_1f6d1caa95bd4efca8751cebd017db84%29%3B%0A%0A%20%20%20%20%20%20%20%20%20%20%20%20%0A%20%20%20%20%20%20%20%20%0A%20%20%20%20%0A%20%20%20%20%20%20%20%20%20%20%20%20var%20circle_marker_316e67ea182344db9be641a4e1e06281%20%3D%20L.circleMarker%28%0A%20%20%20%20%20%20%20%20%20%20%20%20%20%20%20%20%5B43.656791249922385%2C-79.37613917916755%5D%2C%0A%20%20%20%20%20%20%20%20%20%20%20%20%20%20%20%20%7B%0A%20%20%22bubblingMouseEvents%22%3A%20true%2C%0A%20%20%22color%22%3A%20%22blue%22%2C%0A%20%20%22dashArray%22%3A%20null%2C%0A%20%20%22dashOffset%22%3A%20null%2C%0A%20%20%22fill%22%3A%20true%2C%0A%20%20%22fillColor%22%3A%20%22blue%22%2C%0A%20%20%22fillOpacity%22%3A%200.6%2C%0A%20%20%22fillRule%22%3A%20%22evenodd%22%2C%0A%20%20%22lineCap%22%3A%20%22round%22%2C%0A%20%20%22lineJoin%22%3A%20%22round%22%2C%0A%20%20%22opacity%22%3A%201.0%2C%0A%20%20%22radius%22%3A%205%2C%0A%20%20%22stroke%22%3A%20true%2C%0A%20%20%22weight%22%3A%203%0A%7D%0A%20%20%20%20%20%20%20%20%20%20%20%20%20%20%20%20%29.addTo%28map_09ef0cf794e841a794db920af33a93fe%29%3B%0A%20%20%20%20%20%20%20%20%20%20%20%20%0A%20%20%20%20%0A%20%20%20%20%20%20%20%20%20%20%20%20var%20popup_0447cf24e57b4f9088a6aa864ea8acfb%20%3D%20L.popup%28%7BmaxWidth%3A%20%27300%27%7D%29%3B%0A%0A%20%20%20%20%20%20%20%20%20%20%20%20%0A%20%20%20%20%20%20%20%20%20%20%20%20%20%20%20%20var%20html_7f1a8e97c5b44b56a05d3f906c14fc3b%20%3D%20%24%28%27%3Cdiv%20id%3D%22html_7f1a8e97c5b44b56a05d3f906c14fc3b%22%20style%3D%22width%3A%20100.0%25%3B%20height%3A%20100.0%25%3B%22%3EChinese%20Restaurant%3C/div%3E%27%29%5B0%5D%3B%0A%20%20%20%20%20%20%20%20%20%20%20%20%20%20%20%20popup_0447cf24e57b4f9088a6aa864ea8acfb.setContent%28html_7f1a8e97c5b44b56a05d3f906c14fc3b%29%3B%0A%20%20%20%20%20%20%20%20%20%20%20%20%0A%0A%20%20%20%20%20%20%20%20%20%20%20%20circle_marker_316e67ea182344db9be641a4e1e06281.bindPopup%28popup_0447cf24e57b4f9088a6aa864ea8acfb%29%3B%0A%0A%20%20%20%20%20%20%20%20%20%20%20%20%0A%20%20%20%20%20%20%20%20%0A%20%20%20%20%0A%20%20%20%20%20%20%20%20%20%20%20%20var%20circle_marker_2294abe3af1740728c2f942ee9fff1ee%20%3D%20L.circleMarker%28%0A%20%20%20%20%20%20%20%20%20%20%20%20%20%20%20%20%5B43.65483285234745%2C-79.38720597193928%5D%2C%0A%20%20%20%20%20%20%20%20%20%20%20%20%20%20%20%20%7B%0A%20%20%22bubblingMouseEvents%22%3A%20true%2C%0A%20%20%22color%22%3A%20%22blue%22%2C%0A%20%20%22dashArray%22%3A%20null%2C%0A%20%20%22dashOffset%22%3A%20null%2C%0A%20%20%22fill%22%3A%20true%2C%0A%20%20%22fillColor%22%3A%20%22blue%22%2C%0A%20%20%22fillOpacity%22%3A%200.6%2C%0A%20%20%22fillRule%22%3A%20%22evenodd%22%2C%0A%20%20%22lineCap%22%3A%20%22round%22%2C%0A%20%20%22lineJoin%22%3A%20%22round%22%2C%0A%20%20%22opacity%22%3A%201.0%2C%0A%20%20%22radius%22%3A%205%2C%0A%20%20%22stroke%22%3A%20true%2C%0A%20%20%22weight%22%3A%203%0A%7D%0A%20%20%20%20%20%20%20%20%20%20%20%20%20%20%20%20%29.addTo%28map_09ef0cf794e841a794db920af33a93fe%29%3B%0A%20%20%20%20%20%20%20%20%20%20%20%20%0A%20%20%20%20%0A%20%20%20%20%20%20%20%20%20%20%20%20var%20popup_68ea81215760418ba5d768d8949c735b%20%3D%20L.popup%28%7BmaxWidth%3A%20%27300%27%7D%29%3B%0A%0A%20%20%20%20%20%20%20%20%20%20%20%20%0A%20%20%20%20%20%20%20%20%20%20%20%20%20%20%20%20var%20html_2e650f1ac4e64aafa6ed592b27ef16b5%20%3D%20%24%28%27%3Cdiv%20id%3D%22html_2e650f1ac4e64aafa6ed592b27ef16b5%22%20style%3D%22width%3A%20100.0%25%3B%20height%3A%20100.0%25%3B%22%3EChinese%20Restaurant%3C/div%3E%27%29%5B0%5D%3B%0A%20%20%20%20%20%20%20%20%20%20%20%20%20%20%20%20popup_68ea81215760418ba5d768d8949c735b.setContent%28html_2e650f1ac4e64aafa6ed592b27ef16b5%29%3B%0A%20%20%20%20%20%20%20%20%20%20%20%20%0A%0A%20%20%20%20%20%20%20%20%20%20%20%20circle_marker_2294abe3af1740728c2f942ee9fff1ee.bindPopup%28popup_68ea81215760418ba5d768d8949c735b%29%3B%0A%0A%20%20%20%20%20%20%20%20%20%20%20%20%0A%20%20%20%20%20%20%20%20%0A%20%20%20%20%0A%20%20%20%20%20%20%20%20%20%20%20%20var%20circle_marker_eea16ad6312a47c6b1a0617e5b0d38f7%20%3D%20L.circleMarker%28%0A%20%20%20%20%20%20%20%20%20%20%20%20%20%20%20%20%5B43.65503785867478%2C-79.38589043402241%5D%2C%0A%20%20%20%20%20%20%20%20%20%20%20%20%20%20%20%20%7B%0A%20%20%22bubblingMouseEvents%22%3A%20true%2C%0A%20%20%22color%22%3A%20%22blue%22%2C%0A%20%20%22dashArray%22%3A%20null%2C%0A%20%20%22dashOffset%22%3A%20null%2C%0A%20%20%22fill%22%3A%20true%2C%0A%20%20%22fillColor%22%3A%20%22blue%22%2C%0A%20%20%22fillOpacity%22%3A%200.6%2C%0A%20%20%22fillRule%22%3A%20%22evenodd%22%2C%0A%20%20%22lineCap%22%3A%20%22round%22%2C%0A%20%20%22lineJoin%22%3A%20%22round%22%2C%0A%20%20%22opacity%22%3A%201.0%2C%0A%20%20%22radius%22%3A%205%2C%0A%20%20%22stroke%22%3A%20true%2C%0A%20%20%22weight%22%3A%203%0A%7D%0A%20%20%20%20%20%20%20%20%20%20%20%20%20%20%20%20%29.addTo%28map_09ef0cf794e841a794db920af33a93fe%29%3B%0A%20%20%20%20%20%20%20%20%20%20%20%20%0A%20%20%20%20%0A%20%20%20%20%20%20%20%20%20%20%20%20var%20popup_f2ecbfab851d4149acb982a1bb4ca3e9%20%3D%20L.popup%28%7BmaxWidth%3A%20%27300%27%7D%29%3B%0A%0A%20%20%20%20%20%20%20%20%20%20%20%20%0A%20%20%20%20%20%20%20%20%20%20%20%20%20%20%20%20var%20html_790eaf5f250940809d1b08c16821f183%20%3D%20%24%28%27%3Cdiv%20id%3D%22html_790eaf5f250940809d1b08c16821f183%22%20style%3D%22width%3A%20100.0%25%3B%20height%3A%20100.0%25%3B%22%3EChinese%20Restaurant%3C/div%3E%27%29%5B0%5D%3B%0A%20%20%20%20%20%20%20%20%20%20%20%20%20%20%20%20popup_f2ecbfab851d4149acb982a1bb4ca3e9.setContent%28html_790eaf5f250940809d1b08c16821f183%29%3B%0A%20%20%20%20%20%20%20%20%20%20%20%20%0A%0A%20%20%20%20%20%20%20%20%20%20%20%20circle_marker_eea16ad6312a47c6b1a0617e5b0d38f7.bindPopup%28popup_f2ecbfab851d4149acb982a1bb4ca3e9%29%3B%0A%0A%20%20%20%20%20%20%20%20%20%20%20%20%0A%20%20%20%20%20%20%20%20%0A%3C/script%3E onload=\"this.contentDocument.open();this.contentDocument.write(    decodeURIComponent(this.getAttribute('data-html')));this.contentDocument.close();\" allowfullscreen webkitallowfullscreen mozallowfullscreen></iframe></div></div>",
                        "text/plain": "<folium.folium.Map at 0x7f01c34db990>"
                    },
                    "execution_count": 12,
                    "metadata": {},
                    "output_type": "execute_result"
                }
            ],
            "source": "venues_map = folium.Map(location=[latitude, longitude], zoom_start=13) # generate map centred around the Conrad Hotel\n\n# add a red circle marker to represent the Conrad Hotel\nfolium.CircleMarker(\n    [latitude, longitude],\n    radius=10,\n    color='red',\n    popup='Conrad Hotel',\n    fill = True,\n    fill_color = 'red',\n    fill_opacity = 0.6\n).add_to(venues_map)\n\n# add the Italian restaurants as blue circle markers\nfor lat, lng, label in zip(df.lat, df.lng, df.categories):\n    folium.CircleMarker(\n        [lat, lng],\n        radius=5,\n        color='blue',\n        popup=label,\n        fill = True,\n        fill_color='blue',\n        fill_opacity=0.6\n    ).add_to(venues_map)\n\n# display map\nvenues_map"
        },
        {
            "cell_type": "markdown",
            "metadata": {},
            "source": "## Methology\nIn this section, we will start data analysis.\\\n1, We will firstly substarct the longitude and latitude for each Chinese Restaurant. \\\n2, Then, cluster them according to their geographic location. \\\n3, Get information about their prices\n4, build a regression model for the relationships of ratings and price\\\n\nthe techniques used include clustering and clustering "
        },
        {
            "cell_type": "markdown",
            "metadata": {},
            "source": "let's begin with substract the geograohic locations and put them in a dataframe"
        },
        {
            "cell_type": "code",
            "execution_count": 13,
            "metadata": {
                "scrolled": false
            },
            "outputs": [
                {
                    "data": {
                        "text/html": "<div>\n<style scoped>\n    .dataframe tbody tr th:only-of-type {\n        vertical-align: middle;\n    }\n\n    .dataframe tbody tr th {\n        vertical-align: top;\n    }\n\n    .dataframe thead th {\n        text-align: right;\n    }\n</style>\n<table border=\"1\" class=\"dataframe\">\n  <thead>\n    <tr style=\"text-align: right;\">\n      <th></th>\n      <th>lat</th>\n      <th>lng</th>\n    </tr>\n  </thead>\n  <tbody>\n    <tr>\n      <th>0</th>\n      <td>43.654925</td>\n      <td>-79.387089</td>\n    </tr>\n    <tr>\n      <th>1</th>\n      <td>43.655281</td>\n      <td>-79.385337</td>\n    </tr>\n    <tr>\n      <th>2</th>\n      <td>43.656791</td>\n      <td>-79.376139</td>\n    </tr>\n    <tr>\n      <th>18</th>\n      <td>43.654833</td>\n      <td>-79.387206</td>\n    </tr>\n    <tr>\n      <th>29</th>\n      <td>43.655038</td>\n      <td>-79.385890</td>\n    </tr>\n  </tbody>\n</table>\n</div>",
                        "text/plain": "          lat        lng\n0   43.654925 -79.387089\n1   43.655281 -79.385337\n2   43.656791 -79.376139\n18  43.654833 -79.387206\n29  43.655038 -79.385890"
                    },
                    "execution_count": 13,
                    "metadata": {},
                    "output_type": "execute_result"
                }
            ],
            "source": "df2 = df[['lat','lng']]\ndf2.head()"
        },
        {
            "cell_type": "code",
            "execution_count": 15,
            "metadata": {},
            "outputs": [],
            "source": "import matplotlib.pyplot as plt\n%matplotlib inline "
        },
        {
            "cell_type": "code",
            "execution_count": 16,
            "metadata": {},
            "outputs": [],
            "source": "from sklearn.preprocessing import StandardScaler\nfrom sklearn.cluster import KMeans "
        },
        {
            "cell_type": "markdown",
            "metadata": {},
            "source": "change dataframe into array and prepare for clustering. the number of cluster is set to be 2 according to the map we created earlier. "
        },
        {
            "cell_type": "code",
            "execution_count": 17,
            "metadata": {},
            "outputs": [
                {
                    "data": {
                        "text/plain": "array([[-0.61901943, -0.66312514],\n       [-0.12757105, -0.24155993],\n       [ 1.95663136,  1.97069953],\n       [-0.74650338, -0.69122193],\n       [-0.46353749, -0.37479253]])"
                    },
                    "execution_count": 17,
                    "metadata": {},
                    "output_type": "execute_result"
                }
            ],
            "source": "X = np.nan_to_num(df2)\ncluster_dataset = StandardScaler().fit_transform(X)\ncluster_dataset"
        },
        {
            "cell_type": "code",
            "execution_count": 18,
            "metadata": {},
            "outputs": [
                {
                    "data": {
                        "text/plain": "KMeans(n_clusters=2, n_init=12)"
                    },
                    "execution_count": 18,
                    "metadata": {},
                    "output_type": "execute_result"
                }
            ],
            "source": "k_means = KMeans(init=\"k-means++\", n_clusters=2, n_init=12)\nk_means.fit(X)"
        },
        {
            "cell_type": "code",
            "execution_count": 19,
            "metadata": {},
            "outputs": [
                {
                    "data": {
                        "text/plain": "array([0, 0, 1, 0, 0], dtype=int32)"
                    },
                    "execution_count": 19,
                    "metadata": {},
                    "output_type": "execute_result"
                }
            ],
            "source": "k_means_labels = k_means.labels_\nk_means_labels"
        },
        {
            "cell_type": "code",
            "execution_count": 20,
            "metadata": {},
            "outputs": [
                {
                    "data": {
                        "text/plain": "array([[ 43.6550193 , -79.38638052],\n       [ 43.65679125, -79.37613918]])"
                    },
                    "execution_count": 20,
                    "metadata": {},
                    "output_type": "execute_result"
                }
            ],
            "source": "k_means_cluster_centers = k_means.cluster_centers_\nk_means_cluster_centers"
        },
        {
            "cell_type": "markdown",
            "metadata": {},
            "source": "Now, visualize the cluster "
        },
        {
            "cell_type": "code",
            "execution_count": 21,
            "metadata": {},
            "outputs": [
                {
                    "data": {
                        "image/png": "[encoded data removed]",
                        "text/plain": "<Figure size 1080x720 with 1 Axes>"
                    },
                    "metadata": {},
                    "output_type": "display_data"
                }
            ],
            "source": "# initialize the plot with the specified dimensions.\nfig = plt.figure(figsize=(15, 10))\n\n# colors uses a color map, which will produce an array of colors based on\n# the number of labels. We use set(k_means_labels) to get the\n# unique labels.\ncolors = plt.cm.Spectral(np.linspace(0, 1, len(set(k_means_labels))))\n\n# create a plot\nax = fig.add_subplot(1, 1, 1)\n\n# loop through the data and plot the datapoints and centroids.\n# k will range from 0-3, which will match the number of clusters in the dataset.\nfor k, col in zip(range(len([[4,4], [-2, -1], [2, -3], [1, 1]])), colors):\n\n    # create a list of all datapoints, where the datapoitns that are \n    # in the cluster (ex. cluster 0) are labeled as true, else they are\n    # labeled as false.\n    my_members = (k_means_labels == k)\n    \n    # define the centroid, or cluster center.\n    cluster_center = k_means_cluster_centers[k]\n    \n    # plot the datapoints with color col.\n    ax.plot(X[my_members, 0], X[my_members, 1], 'w', markerfacecolor=col, marker='.')\n    \n    # plot the centroids with specified color, but with a darker outline\n    ax.plot(cluster_center[0], cluster_center[1], 'o', markerfacecolor=col,  markeredgecolor='k', markersize=6)\n\n# title of the plot\nax.set_title('KMeans')\n\n# remove x-axis ticks\nax.set_xticks(())\n\n# remove y-axis ticks\nax.set_yticks(())\n\n# show the plot\nplt.show()"
        },
        {
            "cell_type": "markdown",
            "metadata": {},
            "source": "IDs were substracted to retrieve information from foursquare databases"
        },
        {
            "cell_type": "code",
            "execution_count": 41,
            "metadata": {},
            "outputs": [
                {
                    "data": {
                        "text/html": "<div>\n<style scoped>\n    .dataframe tbody tr th:only-of-type {\n        vertical-align: middle;\n    }\n\n    .dataframe tbody tr th {\n        vertical-align: top;\n    }\n\n    .dataframe thead th {\n        text-align: right;\n    }\n</style>\n<table border=\"1\" class=\"dataframe\">\n  <thead>\n    <tr style=\"text-align: right;\">\n      <th></th>\n      <th>id</th>\n      <th>id</th>\n    </tr>\n  </thead>\n  <tbody>\n    <tr>\n      <th>0</th>\n      <td>4b2027b5f964a520f82d24e3</td>\n      <td>4b2027b5f964a520f82d24e3</td>\n    </tr>\n    <tr>\n      <th>1</th>\n      <td>52a7ae41498eed3af4d0a3fa</td>\n      <td>52a7ae41498eed3af4d0a3fa</td>\n    </tr>\n    <tr>\n      <th>2</th>\n      <td>4adf80b9f964a5202f7b21e3</td>\n      <td>4adf80b9f964a5202f7b21e3</td>\n    </tr>\n    <tr>\n      <th>18</th>\n      <td>4c69740b8d22c9284d42b745</td>\n      <td>4c69740b8d22c9284d42b745</td>\n    </tr>\n    <tr>\n      <th>29</th>\n      <td>4ad4c060f964a5205cf720e3</td>\n      <td>4ad4c060f964a5205cf720e3</td>\n    </tr>\n  </tbody>\n</table>\n</div>",
                        "text/plain": "                          id                        id\n0   4b2027b5f964a520f82d24e3  4b2027b5f964a520f82d24e3\n1   52a7ae41498eed3af4d0a3fa  52a7ae41498eed3af4d0a3fa\n2   4adf80b9f964a5202f7b21e3  4adf80b9f964a5202f7b21e3\n18  4c69740b8d22c9284d42b745  4c69740b8d22c9284d42b745\n29  4ad4c060f964a5205cf720e3  4ad4c060f964a5205cf720e3"
                    },
                    "execution_count": 41,
                    "metadata": {},
                    "output_type": "execute_result"
                }
            ],
            "source": "df.id"
        },
        {
            "cell_type": "markdown",
            "metadata": {},
            "source": "The first ID served as an example of how to take useful information. \\\n1, get an url from Foursquare \\\n2, get the keys for venues\\\n3, target the price keys and keep \"tier\" for later analysis\\\n4, the ratings will also be retrieved"
        },
        {
            "cell_type": "code",
            "execution_count": 42,
            "metadata": {
                "scrolled": true
            },
            "outputs": [
                {
                    "data": {
                        "text/plain": "\"https://api.foursquare.com/v2/venues/['4b2027b5f964a520f82d24e3']?client_id=WK0QSB3S3K1RJELPKCJI0BORNMDDJNFHA4HWAW0YQY0KX0NC&client_secret=HIR04WN5D1FZS5WOI5OFTQKYYZ3VZYSJNKOMFS15ZNYZYUWA&oauth_token=DQK3VHXA41CZN1HJSEO2EXALLOENOE3Q5RGLGPLTFS4QU2MW&v=20180604\""
                    },
                    "execution_count": 42,
                    "metadata": {},
                    "output_type": "execute_result"
                }
            ],
            "source": "venue_id = ['4b2027b5f964a520f82d24e3']\nurl = 'https://api.foursquare.com/v2/venues/{}?client_id={}&client_secret={}&oauth_token={}&v={}'.format(venue_id, CLIENT_ID, CLIENT_SECRET,ACCESS_TOKEN, VERSION)\nurl"
        },
        {
            "cell_type": "code",
            "execution_count": 52,
            "metadata": {},
            "outputs": [
                {
                    "name": "stdout",
                    "output_type": "stream",
                    "text": "dict_keys(['id', 'name', 'contact', 'location', 'canonicalUrl', 'categories', 'verified', 'stats', 'price', 'likes', 'like', 'dislike', 'ok', 'rating', 'ratingColor', 'ratingSignals', 'allowMenuUrlEdit', 'beenHere', 'specials', 'photos', 'reasons', 'hereNow', 'createdAt', 'tips', 'shortUrl', 'timeZone', 'listed', 'seasonalHours', 'pageUpdates', 'inbox', 'attributes', 'bestPhoto', 'colors'])\n"
                }
            ],
            "source": "result = requests.get(url).json()\nresult\nprint(result['response']['venue'].keys())\n"
        },
        {
            "cell_type": "code",
            "execution_count": 53,
            "metadata": {},
            "outputs": [
                {
                    "data": {
                        "text/plain": "{'id': '4c69740b8d22c9284d42b745',\n 'name': 'Wah Too Seafood Restaurant',\n 'contact': {},\n 'location': {'address': '56 Centre Ave.',\n  'lat': 43.65483285234745,\n  'lng': -79.38720597193928,\n  'labeledLatLngs': [{'label': 'display',\n    'lat': 43.65483285234745,\n    'lng': -79.38720597193928}],\n  'postalCode': 'M5G 1R5',\n  'cc': 'CA',\n  'city': 'Toronto',\n  'state': 'ON',\n  'country': 'Canada',\n  'formattedAddress': ['56 Centre Ave.', 'Toronto ON M5G 1R5', 'Canada']},\n 'canonicalUrl': 'https://foursquare.com/v/wah-too-seafood-restaurant/4c69740b8d22c9284d42b745',\n 'categories': [{'id': '4bf58dd8d48988d145941735',\n   'name': 'Chinese Restaurant',\n   'pluralName': 'Chinese Restaurants',\n   'shortName': 'Chinese',\n   'icon': {'prefix': 'https://ss3.4sqi.net/img/categories_v2/food/asian_',\n    'suffix': '.png'},\n   'primary': True}],\n 'verified': False,\n 'stats': {'tipCount': 11},\n 'price': {'tier': 1, 'message': 'Cheap', 'currency': '$'},\n 'likes': {'count': 4,\n  'groups': [{'type': 'others',\n    'count': 4,\n    'items': [{'id': '17896934',\n      'firstName': 'Rajesh',\n      'lastName': 'Ravi',\n      'gender': 'male',\n      'countryCode': 'US',\n      'photo': {'prefix': 'https://fastly.4sqi.net/img/user/',\n       'suffix': '/17896934-1SUBWNAE1QIRF1DR.jpg'}},\n     {'id': '3602925',\n      'firstName': 'Alyssa',\n      'lastName': 'N.',\n      'gender': 'female',\n      'countryCode': 'CA',\n      'photo': {'prefix': 'https://fastly.4sqi.net/img/user/',\n       'suffix': '/3602925-EJHA3HWBHZG5NYEQ.jpg'}},\n     {'id': '52339699',\n      'firstName': 'Nick',\n      'lastName': 'Asnani',\n      'gender': 'male',\n      'countryCode': 'CA',\n      'photo': {'prefix': 'https://fastly.4sqi.net/img/user/',\n       'suffix': '/130N2PZ22AZUAOVE.jpg'}},\n     {'id': '22990758',\n      'firstName': 'T',\n      'lastName': 'Marie',\n      'gender': 'female',\n      'countryCode': 'US',\n      'photo': {'prefix': 'https://fastly.4sqi.net/img/user/',\n       'suffix': '/22990758-3JP1N4MHXRBFRBWC.jpg'}}]}],\n  'summary': 'Rajesh Ravi, Alyssa N., Nick Asnani & T Marie'},\n 'like': False,\n 'dislike': False,\n 'ok': False,\n 'rating': 6.1,\n 'ratingColor': 'FFC800',\n 'ratingSignals': 13,\n 'allowMenuUrlEdit': True,\n 'beenHere': {'count': 0,\n  'unconfirmedCount': 0,\n  'marked': False,\n  'lastCheckinExpiredAt': 0},\n 'specials': {'count': 0, 'items': []},\n 'photos': {'count': 14,\n  'groups': [{'type': 'venue',\n    'name': 'Venue photos',\n    'count': 14,\n    'items': [{'id': '5b5cfd7dc824ae002c1473c0',\n      'createdAt': 1532820861,\n      'source': {'name': 'Swarm for Android',\n       'url': 'https://www.swarmapp.com'},\n      'prefix': 'https://fastly.4sqi.net/img/general/',\n      'suffix': '/161384_-INWXzB2vP9-sIsU85NUNniN41MUH0tib5V2czumvOo.jpg',\n      'width': 1425,\n      'height': 1900,\n      'user': {'id': '161384',\n       'firstName': 'siva',\n       'gender': 'male',\n       'countryCode': 'CA',\n       'photo': {'prefix': 'https://fastly.4sqi.net/img/user/',\n        'suffix': '/161384-TCJRHW5ZKYTFXUUR.jpg'}},\n      'visibility': 'public'}]}]},\n 'reasons': {'count': 0, 'items': []},\n 'hereNow': {'count': 0, 'summary': 'Nobody here', 'groups': []},\n 'createdAt': 1281979403,\n 'tips': {'count': 11,\n  'groups': [{'type': 'following',\n    'name': 'Tips from people you follow',\n    'count': 0,\n    'items': []},\n   {'type': 'others',\n    'name': 'All tips',\n    'count': 11,\n    'items': [{'id': '4d14da94bb64224b7a3db065',\n      'createdAt': 1293212308,\n      'text': 'The best chinese place in dat area!',\n      'type': 'user',\n      'canonicalUrl': 'https://foursquare.com/item/4d14da94bb64224b7a3db065',\n      'likes': {'count': 2,\n       'groups': [{'type': 'others', 'count': 2, 'items': []}],\n       'summary': '2 likes'},\n      'like': False,\n      'logView': True,\n      'agreeCount': 0,\n      'disagreeCount': 0,\n      'todo': {'count': 0},\n      'user': {'id': '4941196',\n       'firstName': 'Yinka',\n       'gender': 'female',\n       'countryCode': 'CA',\n       'photo': {'prefix': 'https://fastly.4sqi.net/img/user/',\n        'suffix': '/OBQCIQIWQCBEJ24X.jpg'}}}]}]},\n 'shortUrl': 'http://4sq.com/cOARxa',\n 'timeZone': 'America/Toronto',\n 'listed': {'count': 2,\n  'groups': [{'type': 'others',\n    'name': 'Lists from other people',\n    'count': 2,\n    'items': [{'id': '57e35038cd10500ef2437283',\n      'name': 'Toronto',\n      'description': '',\n      'type': 'others',\n      'user': {'id': '1993624',\n       'firstName': 'Jeff',\n       'lastName': 'W',\n       'gender': 'male',\n       'countryCode': 'US',\n       'photo': {'prefix': 'https://fastly.4sqi.net/img/user/',\n        'suffix': '/1993624-Z4ZUBWOPHUA1UDQD.jpg'}},\n      'editable': False,\n      'public': True,\n      'collaborative': False,\n      'url': '/jeffwise17/list/toronto',\n      'canonicalUrl': 'https://foursquare.com/jeffwise17/list/toronto',\n      'createdAt': 1474515000,\n      'updatedAt': 1476024383,\n      'photo': {'id': '4ff22a42e4b0ee5a0d34c841',\n       'createdAt': 1341270594,\n       'prefix': 'https://fastly.4sqi.net/img/general/',\n       'suffix': '/wJkXLZUBjS-f3E8ALOT9dHGIxquM_Wco6lSBXsQjJ7c.jpg',\n       'width': 540,\n       'height': 720,\n       'user': {'id': '7066942',\n        'firstName': 'sunghee',\n        'lastName': 'kim\ud83c\udf6a',\n        'gender': 'female',\n        'countryCode': 'KR',\n        'photo': {'prefix': 'https://fastly.4sqi.net/img/user/',\n         'suffix': '/7066942-FAOJMRF403HKGKOK.jpg'}},\n       'visibility': 'public'},\n      'followers': {'count': 0},\n      'listItems': {'count': 38,\n       'items': [{'id': 'v4c69740b8d22c9284d42b745',\n         'createdAt': 1475880666}]}},\n     {'id': '5afdd3a1838e592113ce9e35',\n      'name': 'Best Late Night Chinese',\n      'description': '',\n      'type': 'others',\n      'user': {'id': '16591132',\n       'firstName': 'Elizabeth',\n       'lastName': 'Violante',\n       'gender': 'female',\n       'countryCode': 'CA',\n       'photo': {'prefix': 'https://fastly.4sqi.net/img/user/',\n        'suffix': '/16591132-XOMLSRS3TERMFWJE.jpg'}},\n      'editable': False,\n      'public': True,\n      'collaborative': False,\n      'url': '/emviolante/list/best-late-night-chinese',\n      'canonicalUrl': 'https://foursquare.com/emviolante/list/best-late-night-chinese',\n      'createdAt': 1526584225,\n      'updatedAt': 1582152164,\n      'followers': {'count': 1},\n      'listItems': {'count': 13,\n       'items': [{'id': 'v4c69740b8d22c9284d42b745',\n         'createdAt': 1532971012}]}}]}]},\n 'seasonalHours': [],\n 'pageUpdates': {'count': 0, 'items': []},\n 'inbox': {'count': 0, 'items': []},\n 'attributes': {'groups': [{'type': 'price',\n    'name': 'Price',\n    'summary': '$',\n    'count': 1,\n    'items': [{'displayName': 'Price', 'displayValue': '$', 'priceTier': 1}]},\n   {'type': 'reservations',\n    'name': 'Reservations',\n    'count': 3,\n    'items': [{'displayName': 'Reservations', 'displayValue': 'No'}]},\n   {'type': 'payments',\n    'name': 'Credit Cards',\n    'summary': 'Credit Cards',\n    'count': 5,\n    'items': [{'displayName': 'Credit Cards', 'displayValue': 'Yes'}]},\n   {'type': 'outdoorSeating',\n    'name': 'Outdoor Seating',\n    'count': 1,\n    'items': [{'displayName': 'Outdoor Seating', 'displayValue': 'No'}]}]},\n 'bestPhoto': {'id': '5b5cfd7dc824ae002c1473c0',\n  'createdAt': 1532820861,\n  'source': {'name': 'Swarm for Android', 'url': 'https://www.swarmapp.com'},\n  'prefix': 'https://fastly.4sqi.net/img/general/',\n  'suffix': '/161384_-INWXzB2vP9-sIsU85NUNniN41MUH0tib5V2czumvOo.jpg',\n  'width': 1425,\n  'height': 1900,\n  'visibility': 'public'},\n 'colors': {'highlightColor': {'photoId': '5b5cfd7dc824ae002c1473c0',\n   'value': -13094904},\n  'highlightTextColor': {'photoId': '5b5cfd7dc824ae002c1473c0', 'value': -1},\n  'algoVersion': 3}}"
                    },
                    "execution_count": 53,
                    "metadata": {},
                    "output_type": "execute_result"
                }
            ],
            "source": "result['response']['venue']"
        },
        {
            "cell_type": "code",
            "execution_count": 211,
            "metadata": {
                "scrolled": true
            },
            "outputs": [
                {
                    "name": "stdout",
                    "output_type": "stream",
                    "text": "dict_keys(['tier', 'message', 'currency'])\n"
                }
            ],
            "source": "price = result['response']['venue']['price']\nprint(result['response']['venue']['price'].keys())"
        },
        {
            "cell_type": "code",
            "execution_count": 213,
            "metadata": {},
            "outputs": [
                {
                    "data": {
                        "text/plain": "{'tier': 2, 'message': 'Moderate', 'currency': '$'}"
                    },
                    "execution_count": 213,
                    "metadata": {},
                    "output_type": "execute_result"
                }
            ],
            "source": "price"
        },
        {
            "cell_type": "markdown",
            "metadata": {},
            "source": "Now repeat the same process again for all restaurant, and also get their corresponding ratings. "
        },
        {
            "cell_type": "code",
            "execution_count": 47,
            "metadata": {},
            "outputs": [
                {
                    "name": "stdout",
                    "output_type": "stream",
                    "text": "2\n7.1\n"
                }
            ],
            "source": "venue_id1 = '4b2027b5f964a520f82d24e3' \nurl = 'https://api.foursquare.com/v2/venues/{}?client_id={}&client_secret={}&oauth_token={}&v={}'.format(venue_id1, CLIENT_ID, CLIENT_SECRET,ACCESS_TOKEN, VERSION)\nresult = requests.get(url).json()\nprice1 = result['response']['venue']['price']['tier']\nprint(price1)\n\nrating1 = result['response']['venue']['rating']\ntry:\n    print(rating1)\nexcept:\n    print('This venue has not been rated yet.')\n"
        },
        {
            "cell_type": "code",
            "execution_count": 48,
            "metadata": {},
            "outputs": [
                {
                    "name": "stdout",
                    "output_type": "stream",
                    "text": "1\n6.2\n"
                }
            ],
            "source": "venue_id2 = '4adf80b9f964a5202f7b21e3' \nurl = 'https://api.foursquare.com/v2/venues/{}?client_id={}&client_secret={}&oauth_token={}&v={}'.format(venue_id2, CLIENT_ID, CLIENT_SECRET,ACCESS_TOKEN, VERSION)\nresult = requests.get(url).json()\nprice2 = result['response']['venue']['price']['tier']\nprint(price2)\n\nrating2 = result['response']['venue']['rating']\ntry:\n    print(result['response']['venue']['rating'])\nexcept:\n    print('This venue has not been rated yet.')"
        },
        {
            "cell_type": "code",
            "execution_count": 49,
            "metadata": {},
            "outputs": [
                {
                    "name": "stdout",
                    "output_type": "stream",
                    "text": "3\n6.6\n"
                }
            ],
            "source": "venue_id3 = '4ad4c060f964a5205cf720e3' \nurl = 'https://api.foursquare.com/v2/venues/{}?client_id={}&client_secret={}&oauth_token={}&v={}'.format(venue_id3, CLIENT_ID, CLIENT_SECRET,ACCESS_TOKEN, VERSION)\nresult = requests.get(url).json()\nprice3 = result['response']['venue']['price']['tier']\nprint(price3) \n\nrating3 = result['response']['venue']['rating']\ntry:\n    print(result['response']['venue']['rating'])\nexcept:\n    print('This venue has not been rated yet.')\n"
        },
        {
            "cell_type": "code",
            "execution_count": 50,
            "metadata": {},
            "outputs": [
                {
                    "name": "stdout",
                    "output_type": "stream",
                    "text": "1\n7.4\n"
                }
            ],
            "source": "venue_id4 = '52a7ae41498eed3af4d0a3fa' \nurl = 'https://api.foursquare.com/v2/venues/{}?client_id={}&client_secret={}&oauth_token={}&v={}'.format(venue_id4, CLIENT_ID, CLIENT_SECRET,ACCESS_TOKEN, VERSION)\n\nresult = requests.get(url).json()\n\nprice4 = result['response']['venue']['price']['tier']\nprint(price4) \n\nrating4 = result['response']['venue']['rating']\n\ntry:\n    print(result['response']['venue']['rating'])\nexcept:\n    print('This venue has not been rated yet.')"
        },
        {
            "cell_type": "code",
            "execution_count": 51,
            "metadata": {},
            "outputs": [
                {
                    "name": "stdout",
                    "output_type": "stream",
                    "text": "1\n6.1\n"
                }
            ],
            "source": "venue_id5 = '4c69740b8d22c9284d42b745' \nurl = 'https://api.foursquare.com/v2/venues/{}?client_id={}&client_secret={}&oauth_token={}&v={}'.format(venue_id5, CLIENT_ID, CLIENT_SECRET,ACCESS_TOKEN, VERSION)\n\nresult = requests.get(url).json()\n\nprice5 = result['response']['venue']['price']['tier']\nprint(price5) \n\nrating5 = result['response']['venue']['rating']\n\ntry:\n    print(result['response']['venue']['rating'])\nexcept:\n    print('This venue has not been rated yet.')"
        },
        {
            "cell_type": "markdown",
            "metadata": {},
            "source": "A new data frame is built to collect information "
        },
        {
            "cell_type": "code",
            "execution_count": 54,
            "metadata": {},
            "outputs": [
                {
                    "data": {
                        "text/html": "<div>\n<style scoped>\n    .dataframe tbody tr th:only-of-type {\n        vertical-align: middle;\n    }\n\n    .dataframe tbody tr th {\n        vertical-align: top;\n    }\n\n    .dataframe thead th {\n        text-align: right;\n    }\n</style>\n<table border=\"1\" class=\"dataframe\">\n  <thead>\n    <tr style=\"text-align: right;\">\n      <th></th>\n      <th>ID</th>\n      <th>Price tier</th>\n      <th>Rating</th>\n    </tr>\n  </thead>\n  <tbody>\n    <tr>\n      <th>0</th>\n      <td>4b2027b5f964a520f82d24e3</td>\n      <td>2</td>\n      <td>7.1</td>\n    </tr>\n    <tr>\n      <th>1</th>\n      <td>4adf80b9f964a5202f7b21e3</td>\n      <td>1</td>\n      <td>6.2</td>\n    </tr>\n    <tr>\n      <th>2</th>\n      <td>4ad4c060f964a5205cf720e3</td>\n      <td>3</td>\n      <td>6.6</td>\n    </tr>\n    <tr>\n      <th>3</th>\n      <td>52a7ae41498eed3af4d0a3fa</td>\n      <td>1</td>\n      <td>7.4</td>\n    </tr>\n    <tr>\n      <th>4</th>\n      <td>4c69740b8d22c9284d42b745</td>\n      <td>1</td>\n      <td>6.1</td>\n    </tr>\n  </tbody>\n</table>\n</div>",
                        "text/plain": "                         ID Price tier Rating\n0  4b2027b5f964a520f82d24e3          2    7.1\n1  4adf80b9f964a5202f7b21e3          1    6.2\n2  4ad4c060f964a5205cf720e3          3    6.6\n3  52a7ae41498eed3af4d0a3fa          1    7.4\n4  4c69740b8d22c9284d42b745          1    6.1"
                    },
                    "execution_count": 54,
                    "metadata": {},
                    "output_type": "execute_result"
                }
            ],
            "source": "df = pd.DataFrame(np.array([[venue_id1, price1, rating1], [venue_id2, price2, rating2], [venue_id3, price3, rating3], [venue_id4, price4, rating4], [venue_id5, price5, rating5]]), \n                  columns= ['ID','Price tier','Rating'])\ndf"
        },
        {
            "cell_type": "code",
            "execution_count": 55,
            "metadata": {},
            "outputs": [
                {
                    "data": {
                        "text/plain": "ID            object\nPrice tier    object\nRating        object\ndtype: object"
                    },
                    "execution_count": 55,
                    "metadata": {},
                    "output_type": "execute_result"
                }
            ],
            "source": "df.dtypes"
        },
        {
            "cell_type": "markdown",
            "metadata": {},
            "source": "Data type change to float for relationship analysis"
        },
        {
            "cell_type": "code",
            "execution_count": 56,
            "metadata": {},
            "outputs": [],
            "source": "df['Price tier'] = df['Price tier'].astype(float)\ndf['Rating'] = df['Rating'].astype(float)"
        },
        {
            "cell_type": "markdown",
            "metadata": {},
            "source": "A new dataframe is created for analysis"
        },
        {
            "cell_type": "code",
            "execution_count": 94,
            "metadata": {},
            "outputs": [
                {
                    "data": {
                        "text/html": "<div>\n<style scoped>\n    .dataframe tbody tr th:only-of-type {\n        vertical-align: middle;\n    }\n\n    .dataframe tbody tr th {\n        vertical-align: top;\n    }\n\n    .dataframe thead th {\n        text-align: right;\n    }\n</style>\n<table border=\"1\" class=\"dataframe\">\n  <thead>\n    <tr style=\"text-align: right;\">\n      <th></th>\n      <th>Price tier</th>\n      <th>Rating</th>\n    </tr>\n  </thead>\n  <tbody>\n    <tr>\n      <th>0</th>\n      <td>2.0</td>\n      <td>7.1</td>\n    </tr>\n    <tr>\n      <th>1</th>\n      <td>1.0</td>\n      <td>6.2</td>\n    </tr>\n    <tr>\n      <th>2</th>\n      <td>3.0</td>\n      <td>6.6</td>\n    </tr>\n    <tr>\n      <th>3</th>\n      <td>1.0</td>\n      <td>7.4</td>\n    </tr>\n    <tr>\n      <th>4</th>\n      <td>1.0</td>\n      <td>6.1</td>\n    </tr>\n  </tbody>\n</table>\n</div>",
                        "text/plain": "   Price tier  Rating\n0         2.0     7.1\n1         1.0     6.2\n2         3.0     6.6\n3         1.0     7.4\n4         1.0     6.1"
                    },
                    "execution_count": 94,
                    "metadata": {},
                    "output_type": "execute_result"
                }
            ],
            "source": "df2 = df[['Price tier', 'Rating']]\ndf2"
        },
        {
            "cell_type": "markdown",
            "metadata": {},
            "source": "visualize the plot"
        },
        {
            "cell_type": "code",
            "execution_count": 62,
            "metadata": {},
            "outputs": [
                {
                    "data": {
                        "image/png": "[encoded data removed]",
                        "text/plain": "<Figure size 432x288 with 1 Axes>"
                    },
                    "metadata": {
                        "needs_background": "light"
                    },
                    "output_type": "display_data"
                }
            ],
            "source": "scatterplot = df2.plot.scatter(x='Price tier',\n                      y='Rating',\n                      c='DarkBlue')"
        },
        {
            "cell_type": "markdown",
            "metadata": {},
            "source": "Prepare data for building regression model. Change the dataframe to array"
        },
        {
            "cell_type": "code",
            "execution_count": 102,
            "metadata": {},
            "outputs": [],
            "source": "from sklearn.linear_model import LinearRegression\n"
        },
        {
            "cell_type": "code",
            "execution_count": 92,
            "metadata": {},
            "outputs": [
                {
                    "data": {
                        "text/plain": "array([7.1, 6.2, 6.6, 7.4, 6.1])"
                    },
                    "execution_count": 92,
                    "metadata": {},
                    "output_type": "execute_result"
                }
            ],
            "source": "x2 = df['Price tier'].values\ny2 = df['Rating'].values\n\ny2"
        },
        {
            "cell_type": "markdown",
            "metadata": {},
            "source": "quadratic regression seems the best regression model. "
        },
        {
            "cell_type": "code",
            "execution_count": 95,
            "metadata": {},
            "outputs": [],
            "source": "def quadratic(x, Beta_1, Beta_2):\n     y = Beta_1*x**Beta_2\n     return y"
        },
        {
            "cell_type": "markdown",
            "metadata": {},
            "source": "Normalize the data and find the best parameters. "
        },
        {
            "cell_type": "code",
            "execution_count": 96,
            "metadata": {},
            "outputs": [],
            "source": "x3 =x2/max(x2)\ny3 =y2/max(y2)"
        },
        {
            "cell_type": "code",
            "execution_count": 97,
            "metadata": {},
            "outputs": [
                {
                    "name": "stdout",
                    "output_type": "stream",
                    "text": " beta_1 = 0.921925, beta_2 = 0.028577\n"
                }
            ],
            "source": "from scipy.optimize import curve_fit\npopt, pcov = curve_fit(quadratic, x3, y3)\n#print the final parameters\nprint(\" beta_1 = %f, beta_2 = %f\" % (popt[0], popt[1]))"
        },
        {
            "cell_type": "markdown",
            "metadata": {},
            "source": "Visulize the model"
        },
        {
            "cell_type": "code",
            "execution_count": 101,
            "metadata": {},
            "outputs": [
                {
                    "data": {
                        "image/png": "[encoded data removed]",
                        "text/plain": "<Figure size 576x360 with 1 Axes>"
                    },
                    "metadata": {
                        "needs_background": "light"
                    },
                    "output_type": "display_data"
                }
            ],
            "source": "x = np.linspace(1, 3, 2)\nx = x/max(x)\nplt.figure(figsize=(8,5))\ny = quadratic(x, *popt)\nplt.plot(x3, y3, 'ro', label='data')\nplt.plot(x,y, linewidth=3.0, label='fit')\nplt.legend(loc='best')\nplt.ylabel('Rating')\nplt.xlabel('Price Tier')\nplt.show()"
        },
        {
            "cell_type": "markdown",
            "metadata": {},
            "source": "## Result and Discussion \nThe final model is y=0.92x^0.028, which is also a non-linear relationship between price and ratings for Chinese restaurant in Downrown Toronoto. According to the graph, it does not seems like a "
        }
    ],
    "metadata": {
        "kernelspec": {
            "display_name": "Python 3.7",
            "language": "python",
            "name": "python3"
        },
        "language_info": {
            "codemirror_mode": {
                "name": "ipython",
                "version": 3
            },
            "file_extension": ".py",
            "mimetype": "text/x-python",
            "name": "python",
            "nbconvert_exporter": "python",
            "pygments_lexer": "ipython3",
            "version": "3.7.9"
        }
    },
    "nbformat": 4,
    "nbformat_minor": 1
}